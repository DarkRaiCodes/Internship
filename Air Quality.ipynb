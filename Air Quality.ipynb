{
 "cells": [
  {
   "cell_type": "markdown",
   "id": "77cf1e15",
   "metadata": {},
   "source": [
    "# Data Preprocessing and EDA"
   ]
  },
  {
   "cell_type": "code",
   "execution_count": 1,
   "id": "2057cf13",
   "metadata": {},
   "outputs": [],
   "source": [
    "import numpy as np\n",
    "import pandas as pd\n",
    "import seaborn as sns\n",
    "import matplotlib.pyplot as plt"
   ]
  },
  {
   "cell_type": "code",
   "execution_count": 2,
   "id": "3f7e17f9",
   "metadata": {},
   "outputs": [
    {
     "name": "stdout",
     "output_type": "stream",
     "text": [
      "Total number of cities: 26\n"
     ]
    }
   ],
   "source": [
    "# Load the dataset\n",
    "data = pd.read_csv('Data/air_quality.csv')  \n",
    "\n",
    "# Count the number of unique cities\n",
    "city_count = data['City'].nunique()\n",
    "\n",
    "# Print the result\n",
    "print(\"Total number of cities:\", city_count)"
   ]
  },
  {
   "cell_type": "code",
   "execution_count": 3,
   "id": "207deff5",
   "metadata": {},
   "outputs": [
    {
     "name": "stdout",
     "output_type": "stream",
     "text": [
      "Percentage of city-wise data:\n",
      "Delhi                 7.134993\n",
      "Bengaluru             7.131442\n",
      "Hyderabad             7.113684\n",
      "Lucknow               7.071066\n",
      "Mumbai                7.063963\n",
      "Chennai               7.063963\n",
      "Patna                 6.069539\n",
      "Gurugram              5.760557\n",
      "Ahmedabad             5.536811\n",
      "Visakhapatnam         5.075115\n",
      "Amritsar              4.244060\n",
      "Jaipur                3.935078\n",
      "Thiruvananthapuram    3.903115\n",
      "Jorapokhar            3.363284\n",
      "Amaravati             3.185709\n",
      "Kolkata               2.890933\n",
      "Talcher               2.887381\n",
      "Brajrajnagar          2.823454\n",
      "Guwahati              1.782860\n",
      "Coimbatore            1.363782\n",
      "Chandigarh            1.079660\n",
      "Bhopal                0.994424\n",
      "Shillong              0.983770\n",
      "Kochi                 0.575345\n",
      "Ernakulam             0.564691\n",
      "Aizawl                0.401321\n",
      "Name: City, dtype: float64\n"
     ]
    }
   ],
   "source": [
    "city_percentage = data['City'].value_counts(normalize=True) * 100\n",
    "\n",
    "# Print the result\n",
    "print(\"Percentage of city-wise data:\")\n",
    "print(city_percentage)"
   ]
  },
  {
   "cell_type": "code",
   "execution_count": 4,
   "id": "2f464b96",
   "metadata": {
    "scrolled": true
   },
   "outputs": [
    {
     "data": {
      "text/html": [
       "<div>\n",
       "<style scoped>\n",
       "    .dataframe tbody tr th:only-of-type {\n",
       "        vertical-align: middle;\n",
       "    }\n",
       "\n",
       "    .dataframe tbody tr th {\n",
       "        vertical-align: top;\n",
       "    }\n",
       "\n",
       "    .dataframe thead th {\n",
       "        text-align: right;\n",
       "    }\n",
       "</style>\n",
       "<table border=\"1\" class=\"dataframe\">\n",
       "  <thead>\n",
       "    <tr style=\"text-align: right;\">\n",
       "      <th></th>\n",
       "      <th>City</th>\n",
       "      <th>Date</th>\n",
       "      <th>PM2.5</th>\n",
       "      <th>PM10</th>\n",
       "      <th>NO</th>\n",
       "      <th>NO2</th>\n",
       "      <th>NOx</th>\n",
       "      <th>NH3</th>\n",
       "      <th>CO</th>\n",
       "      <th>SO2</th>\n",
       "      <th>O3</th>\n",
       "      <th>Benzene</th>\n",
       "      <th>Toluene</th>\n",
       "      <th>Xylene</th>\n",
       "      <th>AQI</th>\n",
       "      <th>AQI_Bucket</th>\n",
       "      <th>Temperature</th>\n",
       "      <th>Humidity</th>\n",
       "      <th>WindSpeed</th>\n",
       "    </tr>\n",
       "  </thead>\n",
       "  <tbody>\n",
       "    <tr>\n",
       "      <th>0</th>\n",
       "      <td>Ahmedabad</td>\n",
       "      <td>2015-01-01</td>\n",
       "      <td>NaN</td>\n",
       "      <td>NaN</td>\n",
       "      <td>0.92</td>\n",
       "      <td>18.22</td>\n",
       "      <td>17.15</td>\n",
       "      <td>NaN</td>\n",
       "      <td>0.92</td>\n",
       "      <td>27.64</td>\n",
       "      <td>133.36</td>\n",
       "      <td>0.00</td>\n",
       "      <td>0.02</td>\n",
       "      <td>0.00</td>\n",
       "      <td>NaN</td>\n",
       "      <td>NaN</td>\n",
       "      <td>26.23</td>\n",
       "      <td>39.23</td>\n",
       "      <td>6.18</td>\n",
       "    </tr>\n",
       "    <tr>\n",
       "      <th>1</th>\n",
       "      <td>Ahmedabad</td>\n",
       "      <td>2015-01-02</td>\n",
       "      <td>NaN</td>\n",
       "      <td>NaN</td>\n",
       "      <td>0.97</td>\n",
       "      <td>15.69</td>\n",
       "      <td>16.46</td>\n",
       "      <td>NaN</td>\n",
       "      <td>0.97</td>\n",
       "      <td>24.55</td>\n",
       "      <td>34.06</td>\n",
       "      <td>3.68</td>\n",
       "      <td>5.50</td>\n",
       "      <td>3.77</td>\n",
       "      <td>NaN</td>\n",
       "      <td>NaN</td>\n",
       "      <td>35.18</td>\n",
       "      <td>42.95</td>\n",
       "      <td>4.26</td>\n",
       "    </tr>\n",
       "    <tr>\n",
       "      <th>2</th>\n",
       "      <td>Ahmedabad</td>\n",
       "      <td>2015-01-03</td>\n",
       "      <td>NaN</td>\n",
       "      <td>NaN</td>\n",
       "      <td>17.40</td>\n",
       "      <td>19.30</td>\n",
       "      <td>29.70</td>\n",
       "      <td>NaN</td>\n",
       "      <td>17.40</td>\n",
       "      <td>29.07</td>\n",
       "      <td>30.70</td>\n",
       "      <td>6.80</td>\n",
       "      <td>16.40</td>\n",
       "      <td>2.25</td>\n",
       "      <td>NaN</td>\n",
       "      <td>NaN</td>\n",
       "      <td>34.46</td>\n",
       "      <td>57.46</td>\n",
       "      <td>3.18</td>\n",
       "    </tr>\n",
       "    <tr>\n",
       "      <th>3</th>\n",
       "      <td>Ahmedabad</td>\n",
       "      <td>2015-01-04</td>\n",
       "      <td>NaN</td>\n",
       "      <td>NaN</td>\n",
       "      <td>1.70</td>\n",
       "      <td>18.48</td>\n",
       "      <td>17.97</td>\n",
       "      <td>NaN</td>\n",
       "      <td>1.70</td>\n",
       "      <td>18.59</td>\n",
       "      <td>36.08</td>\n",
       "      <td>4.43</td>\n",
       "      <td>10.14</td>\n",
       "      <td>1.00</td>\n",
       "      <td>NaN</td>\n",
       "      <td>NaN</td>\n",
       "      <td>15.66</td>\n",
       "      <td>49.34</td>\n",
       "      <td>5.89</td>\n",
       "    </tr>\n",
       "    <tr>\n",
       "      <th>4</th>\n",
       "      <td>Ahmedabad</td>\n",
       "      <td>2015-01-05</td>\n",
       "      <td>NaN</td>\n",
       "      <td>NaN</td>\n",
       "      <td>22.10</td>\n",
       "      <td>21.42</td>\n",
       "      <td>37.76</td>\n",
       "      <td>NaN</td>\n",
       "      <td>22.10</td>\n",
       "      <td>39.33</td>\n",
       "      <td>39.31</td>\n",
       "      <td>7.01</td>\n",
       "      <td>18.89</td>\n",
       "      <td>2.78</td>\n",
       "      <td>NaN</td>\n",
       "      <td>NaN</td>\n",
       "      <td>20.00</td>\n",
       "      <td>47.54</td>\n",
       "      <td>2.75</td>\n",
       "    </tr>\n",
       "  </tbody>\n",
       "</table>\n",
       "</div>"
      ],
      "text/plain": [
       "        City        Date  PM2.5  PM10     NO    NO2    NOx  NH3     CO    SO2  \\\n",
       "0  Ahmedabad  2015-01-01    NaN   NaN   0.92  18.22  17.15  NaN   0.92  27.64   \n",
       "1  Ahmedabad  2015-01-02    NaN   NaN   0.97  15.69  16.46  NaN   0.97  24.55   \n",
       "2  Ahmedabad  2015-01-03    NaN   NaN  17.40  19.30  29.70  NaN  17.40  29.07   \n",
       "3  Ahmedabad  2015-01-04    NaN   NaN   1.70  18.48  17.97  NaN   1.70  18.59   \n",
       "4  Ahmedabad  2015-01-05    NaN   NaN  22.10  21.42  37.76  NaN  22.10  39.33   \n",
       "\n",
       "       O3  Benzene  Toluene  Xylene  AQI AQI_Bucket  Temperature  Humidity  \\\n",
       "0  133.36     0.00     0.02    0.00  NaN        NaN        26.23     39.23   \n",
       "1   34.06     3.68     5.50    3.77  NaN        NaN        35.18     42.95   \n",
       "2   30.70     6.80    16.40    2.25  NaN        NaN        34.46     57.46   \n",
       "3   36.08     4.43    10.14    1.00  NaN        NaN        15.66     49.34   \n",
       "4   39.31     7.01    18.89    2.78  NaN        NaN        20.00     47.54   \n",
       "\n",
       "   WindSpeed  \n",
       "0       6.18  \n",
       "1       4.26  \n",
       "2       3.18  \n",
       "3       5.89  \n",
       "4       2.75  "
      ]
     },
     "execution_count": 4,
     "metadata": {},
     "output_type": "execute_result"
    }
   ],
   "source": [
    "data.head()"
   ]
  },
  {
   "cell_type": "code",
   "execution_count": 5,
   "id": "b2cfe5f1",
   "metadata": {
    "scrolled": true
   },
   "outputs": [
    {
     "data": {
      "text/plain": [
       "(28157, 19)"
      ]
     },
     "execution_count": 5,
     "metadata": {},
     "output_type": "execute_result"
    }
   ],
   "source": [
    "data.shape"
   ]
  },
  {
   "cell_type": "code",
   "execution_count": 6,
   "id": "227cc104",
   "metadata": {
    "scrolled": true
   },
   "outputs": [
    {
     "data": {
      "text/plain": [
       "City               0\n",
       "Date               0\n",
       "PM2.5           3224\n",
       "PM10            9766\n",
       "NO              2208\n",
       "NO2             2211\n",
       "NOx             2811\n",
       "NH3             8954\n",
       "CO               685\n",
       "SO2             2480\n",
       "O3              2648\n",
       "Benzene         4249\n",
       "Toluene         6667\n",
       "Xylene         16735\n",
       "AQI             3307\n",
       "AQI_Bucket      3307\n",
       "Temperature        0\n",
       "Humidity           0\n",
       "WindSpeed          0\n",
       "dtype: int64"
      ]
     },
     "execution_count": 6,
     "metadata": {},
     "output_type": "execute_result"
    }
   ],
   "source": [
    "data.isnull().sum()"
   ]
  },
  {
   "cell_type": "code",
   "execution_count": 7,
   "id": "c314bfb2",
   "metadata": {
    "scrolled": true
   },
   "outputs": [
    {
     "name": "stdout",
     "output_type": "stream",
     "text": [
      "AQI Range for nan bucket: nan to nan\n",
      "AQI Range for Poor bucket: 201.0 to 300.0\n",
      "AQI Range for Very Poor bucket: 301.0 to 400.0\n",
      "AQI Range for Severe bucket: 401.0 to 2049.0\n",
      "AQI Range for Moderate bucket: 101.0 to 200.0\n",
      "AQI Range for Satisfactory bucket: 51.0 to 100.0\n",
      "AQI Range for Good bucket: 13.0 to 50.0\n"
     ]
    }
   ],
   "source": [
    "\n",
    "# Get unique AQI buckets\n",
    "aqi_buckets = data['AQI_Bucket'].unique()\n",
    "\n",
    "# Iterate over AQI buckets and find the range of AQI values\n",
    "for bucket in aqi_buckets:\n",
    "    filtered_data = data[data['AQI_Bucket'] == bucket]\n",
    "    aqi_range_min = filtered_data['AQI'].min()\n",
    "    aqi_range_max = filtered_data['AQI'].max()\n",
    "    print(\"AQI Range for\", bucket, \"bucket:\", aqi_range_min, \"to\", aqi_range_max)\n"
   ]
  },
  {
   "cell_type": "code",
   "execution_count": 8,
   "id": "d549a021",
   "metadata": {
    "scrolled": true
   },
   "outputs": [
    {
     "data": {
      "text/html": [
       "<div>\n",
       "<style scoped>\n",
       "    .dataframe tbody tr th:only-of-type {\n",
       "        vertical-align: middle;\n",
       "    }\n",
       "\n",
       "    .dataframe tbody tr th {\n",
       "        vertical-align: top;\n",
       "    }\n",
       "\n",
       "    .dataframe thead th {\n",
       "        text-align: right;\n",
       "    }\n",
       "</style>\n",
       "<table border=\"1\" class=\"dataframe\">\n",
       "  <thead>\n",
       "    <tr style=\"text-align: right;\">\n",
       "      <th></th>\n",
       "      <th>City</th>\n",
       "      <th>Date</th>\n",
       "      <th>PM2.5</th>\n",
       "      <th>PM10</th>\n",
       "      <th>NO</th>\n",
       "      <th>NO2</th>\n",
       "      <th>NOx</th>\n",
       "      <th>NH3</th>\n",
       "      <th>CO</th>\n",
       "      <th>SO2</th>\n",
       "      <th>O3</th>\n",
       "      <th>Benzene</th>\n",
       "      <th>Toluene</th>\n",
       "      <th>Xylene</th>\n",
       "      <th>AQI</th>\n",
       "      <th>AQI_Bucket</th>\n",
       "      <th>Temperature</th>\n",
       "      <th>Humidity</th>\n",
       "      <th>WindSpeed</th>\n",
       "    </tr>\n",
       "  </thead>\n",
       "  <tbody>\n",
       "    <tr>\n",
       "      <th>0</th>\n",
       "      <td>Ahmedabad</td>\n",
       "      <td>2015-01-01</td>\n",
       "      <td>NaN</td>\n",
       "      <td>NaN</td>\n",
       "      <td>0.92</td>\n",
       "      <td>18.22</td>\n",
       "      <td>17.15</td>\n",
       "      <td>NaN</td>\n",
       "      <td>0.92</td>\n",
       "      <td>27.64</td>\n",
       "      <td>133.36</td>\n",
       "      <td>0.00</td>\n",
       "      <td>0.02</td>\n",
       "      <td>0.00</td>\n",
       "      <td>NaN</td>\n",
       "      <td>NaN</td>\n",
       "      <td>26.23</td>\n",
       "      <td>39.23</td>\n",
       "      <td>6.18</td>\n",
       "    </tr>\n",
       "    <tr>\n",
       "      <th>1</th>\n",
       "      <td>Ahmedabad</td>\n",
       "      <td>2015-01-02</td>\n",
       "      <td>NaN</td>\n",
       "      <td>NaN</td>\n",
       "      <td>0.97</td>\n",
       "      <td>15.69</td>\n",
       "      <td>16.46</td>\n",
       "      <td>NaN</td>\n",
       "      <td>0.97</td>\n",
       "      <td>24.55</td>\n",
       "      <td>34.06</td>\n",
       "      <td>3.68</td>\n",
       "      <td>5.50</td>\n",
       "      <td>3.77</td>\n",
       "      <td>NaN</td>\n",
       "      <td>NaN</td>\n",
       "      <td>35.18</td>\n",
       "      <td>42.95</td>\n",
       "      <td>4.26</td>\n",
       "    </tr>\n",
       "    <tr>\n",
       "      <th>2</th>\n",
       "      <td>Ahmedabad</td>\n",
       "      <td>2015-01-03</td>\n",
       "      <td>NaN</td>\n",
       "      <td>NaN</td>\n",
       "      <td>17.40</td>\n",
       "      <td>19.30</td>\n",
       "      <td>29.70</td>\n",
       "      <td>NaN</td>\n",
       "      <td>17.40</td>\n",
       "      <td>29.07</td>\n",
       "      <td>30.70</td>\n",
       "      <td>6.80</td>\n",
       "      <td>16.40</td>\n",
       "      <td>2.25</td>\n",
       "      <td>NaN</td>\n",
       "      <td>NaN</td>\n",
       "      <td>34.46</td>\n",
       "      <td>57.46</td>\n",
       "      <td>3.18</td>\n",
       "    </tr>\n",
       "    <tr>\n",
       "      <th>3</th>\n",
       "      <td>Ahmedabad</td>\n",
       "      <td>2015-01-04</td>\n",
       "      <td>NaN</td>\n",
       "      <td>NaN</td>\n",
       "      <td>1.70</td>\n",
       "      <td>18.48</td>\n",
       "      <td>17.97</td>\n",
       "      <td>NaN</td>\n",
       "      <td>1.70</td>\n",
       "      <td>18.59</td>\n",
       "      <td>36.08</td>\n",
       "      <td>4.43</td>\n",
       "      <td>10.14</td>\n",
       "      <td>1.00</td>\n",
       "      <td>NaN</td>\n",
       "      <td>NaN</td>\n",
       "      <td>15.66</td>\n",
       "      <td>49.34</td>\n",
       "      <td>5.89</td>\n",
       "    </tr>\n",
       "    <tr>\n",
       "      <th>4</th>\n",
       "      <td>Ahmedabad</td>\n",
       "      <td>2015-01-05</td>\n",
       "      <td>NaN</td>\n",
       "      <td>NaN</td>\n",
       "      <td>22.10</td>\n",
       "      <td>21.42</td>\n",
       "      <td>37.76</td>\n",
       "      <td>NaN</td>\n",
       "      <td>22.10</td>\n",
       "      <td>39.33</td>\n",
       "      <td>39.31</td>\n",
       "      <td>7.01</td>\n",
       "      <td>18.89</td>\n",
       "      <td>2.78</td>\n",
       "      <td>NaN</td>\n",
       "      <td>NaN</td>\n",
       "      <td>20.00</td>\n",
       "      <td>47.54</td>\n",
       "      <td>2.75</td>\n",
       "    </tr>\n",
       "  </tbody>\n",
       "</table>\n",
       "</div>"
      ],
      "text/plain": [
       "        City        Date  PM2.5  PM10     NO    NO2    NOx  NH3     CO    SO2  \\\n",
       "0  Ahmedabad  2015-01-01    NaN   NaN   0.92  18.22  17.15  NaN   0.92  27.64   \n",
       "1  Ahmedabad  2015-01-02    NaN   NaN   0.97  15.69  16.46  NaN   0.97  24.55   \n",
       "2  Ahmedabad  2015-01-03    NaN   NaN  17.40  19.30  29.70  NaN  17.40  29.07   \n",
       "3  Ahmedabad  2015-01-04    NaN   NaN   1.70  18.48  17.97  NaN   1.70  18.59   \n",
       "4  Ahmedabad  2015-01-05    NaN   NaN  22.10  21.42  37.76  NaN  22.10  39.33   \n",
       "\n",
       "       O3  Benzene  Toluene  Xylene  AQI AQI_Bucket  Temperature  Humidity  \\\n",
       "0  133.36     0.00     0.02    0.00  NaN        NaN        26.23     39.23   \n",
       "1   34.06     3.68     5.50    3.77  NaN        NaN        35.18     42.95   \n",
       "2   30.70     6.80    16.40    2.25  NaN        NaN        34.46     57.46   \n",
       "3   36.08     4.43    10.14    1.00  NaN        NaN        15.66     49.34   \n",
       "4   39.31     7.01    18.89    2.78  NaN        NaN        20.00     47.54   \n",
       "\n",
       "   WindSpeed  \n",
       "0       6.18  \n",
       "1       4.26  \n",
       "2       3.18  \n",
       "3       5.89  \n",
       "4       2.75  "
      ]
     },
     "execution_count": 8,
     "metadata": {},
     "output_type": "execute_result"
    }
   ],
   "source": [
    "data.head()"
   ]
  },
  {
   "cell_type": "code",
   "execution_count": 9,
   "id": "bd44fbe6",
   "metadata": {
    "scrolled": true
   },
   "outputs": [
    {
     "name": "stdout",
     "output_type": "stream",
     "text": [
      "                City        Date   PM2.5   PM10     NO    NO2    NOx    NH3  \\\n",
      "27         Ahmedabad  2015-01-28   73.24    NaN   5.72  21.11  25.84    NaN   \n",
      "28         Ahmedabad  2015-01-29   83.13    NaN   6.93  28.71  33.72    NaN   \n",
      "29         Ahmedabad  2015-01-30   79.84    NaN  13.85  28.68  41.08    NaN   \n",
      "30         Ahmedabad  2015-01-31   94.52    NaN  24.39  32.66  52.61    NaN   \n",
      "31         Ahmedabad  2015-02-01  135.99    NaN  43.48  42.08  84.57    NaN   \n",
      "...              ...         ...     ...    ...    ...    ...    ...    ...   \n",
      "28152  Visakhapatnam  2020-06-27   15.02  50.94   7.68  25.06  19.54  12.47   \n",
      "28153  Visakhapatnam  2020-06-28   24.38  74.09   3.42  26.06  16.53  11.99   \n",
      "28154  Visakhapatnam  2020-06-29   22.91  65.73   3.45  29.53  18.33  10.71   \n",
      "28155  Visakhapatnam  2020-06-30   16.64  49.97   4.05  29.26  18.80  10.03   \n",
      "28156  Visakhapatnam  2020-07-01   15.00  66.00   0.40  26.85  14.05   5.20   \n",
      "\n",
      "          CO    SO2      O3  Benzene  Toluene  Xylene    AQI    AQI_Bucket  \\\n",
      "27      5.72  36.52   62.42     0.03     0.01    1.41    NaN           NaN   \n",
      "28      6.93  49.52   59.76     0.02     0.00    3.14  209.0          Poor   \n",
      "29     13.85  48.49   97.07     0.04     0.00    4.81  328.0     Very Poor   \n",
      "30     24.39  67.39  111.33     0.24     0.01    7.67  514.0        Severe   \n",
      "31     43.48  75.23  102.70     0.40     0.04   25.87  782.0        Severe   \n",
      "...      ...    ...     ...      ...      ...     ...    ...           ...   \n",
      "28152   0.47   8.55   23.30     2.24    12.07    0.73   41.0          Good   \n",
      "28153   0.52  12.72   30.14     0.74     2.21    0.38   70.0  Satisfactory   \n",
      "28154   0.48   8.42   30.96     0.01     0.01    0.00   68.0  Satisfactory   \n",
      "28155   0.52   9.84   28.30     0.00     0.00    0.00   54.0  Satisfactory   \n",
      "28156   0.59   2.10   17.05      NaN      NaN     NaN   50.0          Good   \n",
      "\n",
      "       Temperature  Humidity  WindSpeed  \n",
      "27            2.60     55.35      16.05  \n",
      "28            8.42     46.90      11.63  \n",
      "29           15.02     64.92       8.85  \n",
      "30           16.75     38.84       3.70  \n",
      "31           10.95     59.14       8.86  \n",
      "...            ...       ...        ...  \n",
      "28152        47.47     65.21       9.66  \n",
      "28153        45.34     64.46       8.75  \n",
      "28154        31.10     53.88       2.14  \n",
      "28155        41.66     62.66      13.48  \n",
      "28156        30.40     63.59       4.36  \n",
      "\n",
      "[26017 rows x 19 columns]\n"
     ]
    }
   ],
   "source": [
    "# Drop rows where 'PM2.5', 'PM10', and 'NH3' columns are null together\n",
    "data = data.dropna(subset=['PM2.5', 'PM10', 'NH3'], how='all')\n",
    "\n",
    "# Print the updated DataFrame 'data'\n",
    "print(data)\n"
   ]
  },
  {
   "cell_type": "code",
   "execution_count": 10,
   "id": "4697a65b",
   "metadata": {},
   "outputs": [
    {
     "data": {
      "text/plain": [
       "(26017, 19)"
      ]
     },
     "execution_count": 10,
     "metadata": {},
     "output_type": "execute_result"
    }
   ],
   "source": [
    "data.shape"
   ]
  },
  {
   "cell_type": "code",
   "execution_count": 11,
   "id": "f5b6eba2",
   "metadata": {},
   "outputs": [
    {
     "data": {
      "text/plain": [
       "City               0\n",
       "Date               0\n",
       "PM2.5           1084\n",
       "PM10            7626\n",
       "NO               480\n",
       "NO2              479\n",
       "NOx             2046\n",
       "NH3             6814\n",
       "CO               476\n",
       "SO2              715\n",
       "O3               932\n",
       "Benzene         3864\n",
       "Toluene         6280\n",
       "Xylene         16222\n",
       "AQI             1225\n",
       "AQI_Bucket      1225\n",
       "Temperature        0\n",
       "Humidity           0\n",
       "WindSpeed          0\n",
       "dtype: int64"
      ]
     },
     "execution_count": 11,
     "metadata": {},
     "output_type": "execute_result"
    }
   ],
   "source": [
    "data.isnull().sum()"
   ]
  },
  {
   "cell_type": "code",
   "execution_count": 12,
   "id": "ffca14b5",
   "metadata": {},
   "outputs": [],
   "source": [
    "data['PM2.5'] = data['PM2.5'].fillna(data['PM2.5'].mean())\n",
    "data['PM10'] = data['PM10'].fillna(data['PM10'].mean())\n",
    "data['NO'] = data['NO'].fillna(data['NO'].mean())\n",
    "data['NO2'] = data['NO2'].fillna(data['NO2'].mean())\n",
    "data['NOx'] = data['NOx'].fillna(data['NOx'].mean())\n",
    "data['NH3'] = data['NH3'].fillna(data['NH3'].mean())\n",
    "data['CO'] = data['CO'].fillna(data['CO'].mean())\n",
    "data['SO2'] = data['SO2'].fillna(data['SO2'].mean())\n",
    "data['O3'] = data['O3'].fillna(data['O3'].mean())\n",
    "data['Benzene'] = data['Benzene'].fillna(data['Benzene'].mean())\n",
    "data['Toluene'] = data['Toluene'].fillna(data['Toluene'].mean())\n",
    "data['Xylene'] = data['Xylene'].fillna(data['Xylene'].mean())\n",
    "data['AQI'] = data['AQI'].fillna(data['AQI'].mode()[0])\n",
    "data['AQI_Bucket'] = data['AQI_Bucket'].fillna('Moderate')"
   ]
  },
  {
   "cell_type": "code",
   "execution_count": 13,
   "id": "122b27a6",
   "metadata": {},
   "outputs": [
    {
     "data": {
      "text/plain": [
       "City           0\n",
       "Date           0\n",
       "PM2.5          0\n",
       "PM10           0\n",
       "NO             0\n",
       "NO2            0\n",
       "NOx            0\n",
       "NH3            0\n",
       "CO             0\n",
       "SO2            0\n",
       "O3             0\n",
       "Benzene        0\n",
       "Toluene        0\n",
       "Xylene         0\n",
       "AQI            0\n",
       "AQI_Bucket     0\n",
       "Temperature    0\n",
       "Humidity       0\n",
       "WindSpeed      0\n",
       "dtype: int64"
      ]
     },
     "execution_count": 13,
     "metadata": {},
     "output_type": "execute_result"
    }
   ],
   "source": [
    "data.isnull().sum()"
   ]
  },
  {
   "cell_type": "code",
   "execution_count": 14,
   "id": "8396ec0c",
   "metadata": {},
   "outputs": [
    {
     "data": {
      "image/png": "[encoded data removed]",
      "text/plain": [
       "<Figure size 640x480 with 1 Axes>"
      ]
     },
     "metadata": {},
     "output_type": "display_data"
    }
   ],
   "source": [
    "import matplotlib.pyplot as plt\n",
    "plt.hist(data['PM2.5'], bins=20)\n",
    "plt.xlabel('PM2.5 Level')\n",
    "plt.ylabel('Frequency')\n",
    "plt.title('Distribution of PM2.5 Levels')\n",
    "plt.show()"
   ]
  },
  {
   "cell_type": "code",
   "execution_count": 15,
   "id": "4b8917bd",
   "metadata": {},
   "outputs": [
    {
     "data": {
      "image/png": "[encoded data removed]",
      "text/plain": [
       "<Figure size 640x480 with 1 Axes>"
      ]
     },
     "metadata": {},
     "output_type": "display_data"
    }
   ],
   "source": [
    "plt.plot(data['Date'], data['PM2.5'])\n",
    "plt.xlabel('Date')\n",
    "plt.ylabel('PM2.5 Level')\n",
    "plt.title('PM2.5 Levels over Time')\n",
    "plt.xticks(rotation=45)\n",
    "plt.show()"
   ]
  },
  {
   "cell_type": "code",
   "execution_count": 16,
   "id": "cd126501",
   "metadata": {},
   "outputs": [
    {
     "data": {
      "image/png": "[encoded data removed]",
      "text/plain": [
       "<Figure size 1000x800 with 2 Axes>"
      ]
     },
     "metadata": {},
     "output_type": "display_data"
    }
   ],
   "source": [
    "import seaborn as sns\n",
    "correlation = data[['PM2.5', 'PM10', 'NO', 'NO2', 'CO', 'SO2', 'O3', 'Temperature', 'Humidity', 'WindSpeed']].corr()\n",
    "plt.figure(figsize=(10, 8))\n",
    "sns.heatmap(correlation, annot=True)\n",
    "\n",
    "plt.title('Correlation between Pollutants')\n",
    "plt.show()"
   ]
  },
  {
   "cell_type": "code",
   "execution_count": 17,
   "id": "53b9386c",
   "metadata": {
    "scrolled": true
   },
   "outputs": [
    {
     "data": {
      "image/png": "[encoded data removed]",
      "text/plain": [
       "<Figure size 500x500 with 1 Axes>"
      ]
     },
     "metadata": {},
     "output_type": "display_data"
    }
   ],
   "source": [
    "plot = sns.catplot(x=\"AQI_Bucket\",data=data,kind=\"count\")"
   ]
  },
  {
   "cell_type": "code",
   "execution_count": 18,
   "id": "50792af2",
   "metadata": {},
   "outputs": [
    {
     "data": {
      "text/html": [
       "<div>\n",
       "<style scoped>\n",
       "    .dataframe tbody tr th:only-of-type {\n",
       "        vertical-align: middle;\n",
       "    }\n",
       "\n",
       "    .dataframe tbody tr th {\n",
       "        vertical-align: top;\n",
       "    }\n",
       "\n",
       "    .dataframe thead th {\n",
       "        text-align: right;\n",
       "    }\n",
       "</style>\n",
       "<table border=\"1\" class=\"dataframe\">\n",
       "  <thead>\n",
       "    <tr style=\"text-align: right;\">\n",
       "      <th></th>\n",
       "      <th>AQI</th>\n",
       "      <th>PM10</th>\n",
       "      <th>CO</th>\n",
       "    </tr>\n",
       "    <tr>\n",
       "      <th>City</th>\n",
       "      <th></th>\n",
       "      <th></th>\n",
       "      <th></th>\n",
       "    </tr>\n",
       "  </thead>\n",
       "  <tbody>\n",
       "    <tr>\n",
       "      <th>Ahmedabad</th>\n",
       "      <td>439.769175</td>\n",
       "      <td>117.083665</td>\n",
       "      <td>21.997091</td>\n",
       "    </tr>\n",
       "    <tr>\n",
       "      <th>Delhi</th>\n",
       "      <td>258.879422</td>\n",
       "      <td>228.523649</td>\n",
       "      <td>1.978022</td>\n",
       "    </tr>\n",
       "    <tr>\n",
       "      <th>Patna</th>\n",
       "      <td>233.566038</td>\n",
       "      <td>119.198400</td>\n",
       "      <td>1.582043</td>\n",
       "    </tr>\n",
       "    <tr>\n",
       "      <th>Gurugram</th>\n",
       "      <td>219.073443</td>\n",
       "      <td>153.733151</td>\n",
       "      <td>1.313764</td>\n",
       "    </tr>\n",
       "    <tr>\n",
       "      <th>Lucknow</th>\n",
       "      <td>217.164657</td>\n",
       "      <td>118.127103</td>\n",
       "      <td>1.752260</td>\n",
       "    </tr>\n",
       "    <tr>\n",
       "      <th>Talcher</th>\n",
       "      <td>163.332085</td>\n",
       "      <td>162.501162</td>\n",
       "      <td>1.861280</td>\n",
       "    </tr>\n",
       "    <tr>\n",
       "      <th>Jorapokhar</th>\n",
       "      <td>149.528899</td>\n",
       "      <td>148.867092</td>\n",
       "      <td>1.193427</td>\n",
       "    </tr>\n",
       "    <tr>\n",
       "      <th>Brajrajnagar</th>\n",
       "      <td>145.663671</td>\n",
       "      <td>124.107920</td>\n",
       "      <td>1.780077</td>\n",
       "    </tr>\n",
       "    <tr>\n",
       "      <th>Guwahati</th>\n",
       "      <td>139.551793</td>\n",
       "      <td>116.604900</td>\n",
       "      <td>0.738457</td>\n",
       "    </tr>\n",
       "    <tr>\n",
       "      <th>Kolkata</th>\n",
       "      <td>137.576167</td>\n",
       "      <td>115.798256</td>\n",
       "      <td>0.799251</td>\n",
       "    </tr>\n",
       "    <tr>\n",
       "      <th>Jaipur</th>\n",
       "      <td>133.423775</td>\n",
       "      <td>123.473788</td>\n",
       "      <td>0.804528</td>\n",
       "    </tr>\n",
       "    <tr>\n",
       "      <th>Bhopal</th>\n",
       "      <td>132.592857</td>\n",
       "      <td>119.324321</td>\n",
       "      <td>0.880393</td>\n",
       "    </tr>\n",
       "    <tr>\n",
       "      <th>Amritsar</th>\n",
       "      <td>118.781803</td>\n",
       "      <td>115.274049</td>\n",
       "      <td>0.614433</td>\n",
       "    </tr>\n",
       "    <tr>\n",
       "      <th>Visakhapatnam</th>\n",
       "      <td>116.098569</td>\n",
       "      <td>106.261071</td>\n",
       "      <td>0.837084</td>\n",
       "    </tr>\n",
       "    <tr>\n",
       "      <th>Chennai</th>\n",
       "      <td>113.864097</td>\n",
       "      <td>109.659357</td>\n",
       "      <td>1.073294</td>\n",
       "    </tr>\n",
       "    <tr>\n",
       "      <th>Hyderabad</th>\n",
       "      <td>109.145195</td>\n",
       "      <td>95.292421</td>\n",
       "      <td>0.600480</td>\n",
       "    </tr>\n",
       "    <tr>\n",
       "      <th>Mumbai</th>\n",
       "      <td>105.210459</td>\n",
       "      <td>97.317792</td>\n",
       "      <td>1.230109</td>\n",
       "    </tr>\n",
       "    <tr>\n",
       "      <th>Kochi</th>\n",
       "      <td>104.179012</td>\n",
       "      <td>67.335432</td>\n",
       "      <td>1.296667</td>\n",
       "    </tr>\n",
       "    <tr>\n",
       "      <th>Chandigarh</th>\n",
       "      <td>96.555921</td>\n",
       "      <td>85.656546</td>\n",
       "      <td>0.631349</td>\n",
       "    </tr>\n",
       "    <tr>\n",
       "      <th>Amaravati</th>\n",
       "      <td>95.608259</td>\n",
       "      <td>76.362020</td>\n",
       "      <td>0.707949</td>\n",
       "    </tr>\n",
       "    <tr>\n",
       "      <th>Bengaluru</th>\n",
       "      <td>94.616575</td>\n",
       "      <td>89.408475</td>\n",
       "      <td>1.844034</td>\n",
       "    </tr>\n",
       "    <tr>\n",
       "      <th>Ernakulam</th>\n",
       "      <td>92.879747</td>\n",
       "      <td>48.335633</td>\n",
       "      <td>1.627848</td>\n",
       "    </tr>\n",
       "    <tr>\n",
       "      <th>Thiruvananthapuram</th>\n",
       "      <td>76.950730</td>\n",
       "      <td>54.173692</td>\n",
       "      <td>0.951378</td>\n",
       "    </tr>\n",
       "    <tr>\n",
       "      <th>Coimbatore</th>\n",
       "      <td>75.761155</td>\n",
       "      <td>38.402846</td>\n",
       "      <td>0.948924</td>\n",
       "    </tr>\n",
       "    <tr>\n",
       "      <th>Shillong</th>\n",
       "      <td>63.000000</td>\n",
       "      <td>46.648072</td>\n",
       "      <td>0.259336</td>\n",
       "    </tr>\n",
       "    <tr>\n",
       "      <th>Aizawl</th>\n",
       "      <td>35.920354</td>\n",
       "      <td>24.191567</td>\n",
       "      <td>0.283628</td>\n",
       "    </tr>\n",
       "  </tbody>\n",
       "</table>\n",
       "</div>"
      ],
      "text/plain": [
       "                           AQI        PM10         CO\n",
       "City                                                 \n",
       "Ahmedabad           439.769175  117.083665  21.997091\n",
       "Delhi               258.879422  228.523649   1.978022\n",
       "Patna               233.566038  119.198400   1.582043\n",
       "Gurugram            219.073443  153.733151   1.313764\n",
       "Lucknow             217.164657  118.127103   1.752260\n",
       "Talcher             163.332085  162.501162   1.861280\n",
       "Jorapokhar          149.528899  148.867092   1.193427\n",
       "Brajrajnagar        145.663671  124.107920   1.780077\n",
       "Guwahati            139.551793  116.604900   0.738457\n",
       "Kolkata             137.576167  115.798256   0.799251\n",
       "Jaipur              133.423775  123.473788   0.804528\n",
       "Bhopal              132.592857  119.324321   0.880393\n",
       "Amritsar            118.781803  115.274049   0.614433\n",
       "Visakhapatnam       116.098569  106.261071   0.837084\n",
       "Chennai             113.864097  109.659357   1.073294\n",
       "Hyderabad           109.145195   95.292421   0.600480\n",
       "Mumbai              105.210459   97.317792   1.230109\n",
       "Kochi               104.179012   67.335432   1.296667\n",
       "Chandigarh           96.555921   85.656546   0.631349\n",
       "Amaravati            95.608259   76.362020   0.707949\n",
       "Bengaluru            94.616575   89.408475   1.844034\n",
       "Ernakulam            92.879747   48.335633   1.627848\n",
       "Thiruvananthapuram   76.950730   54.173692   0.951378\n",
       "Coimbatore           75.761155   38.402846   0.948924\n",
       "Shillong             63.000000   46.648072   0.259336\n",
       "Aizawl               35.920354   24.191567   0.283628"
      ]
     },
     "execution_count": 18,
     "metadata": {},
     "output_type": "execute_result"
    }
   ],
   "source": [
    "most_polluted = data[['City', 'AQI', 'PM10', 'CO']].groupby(['City']).mean().sort_values(by = 'AQI', ascending = False)\n",
    "most_polluted"
   ]
  },
  {
   "cell_type": "code",
   "execution_count": 19,
   "id": "600fac5b",
   "metadata": {},
   "outputs": [
    {
     "data": {
      "image/png": "[encoded data removed]",
      "text/plain": [
       "<Figure size 1500x1500 with 3 Axes>"
      ]
     },
     "metadata": {},
     "output_type": "display_data"
    }
   ],
   "source": [
    "plt.style.use('seaborn-whitegrid')\n",
    "f, ax_ = plt.subplots(1, 3, figsize = (15,15))\n",
    "\n",
    "bar1 = sns.barplot(x = most_polluted.AQI,\n",
    "                   y = most_polluted.index,\n",
    "                   palette = 'Reds_r',\n",
    "                   ax = ax_[0]);\n",
    "\n",
    "bar1 = sns.barplot(x = most_polluted.PM10,\n",
    "                   y = most_polluted.index,\n",
    "                   palette = 'RdBu',\n",
    "                   ax = ax_[1]);\n",
    "\n",
    "bar1 = sns.barplot(x = most_polluted.CO,\n",
    "                   y = most_polluted.index,\n",
    "                   palette = 'RdBu',\n",
    "                   ax = ax_[2]);\n",
    "\n",
    "titles = ['AirQualityIndex', 'ParticulateMatter10', 'CO']\n",
    "for i in range(3) :\n",
    "    ax_[i].set_ylabel('')   \n",
    "    ax_[i].set_yticklabels(labels = ax_[i].get_yticklabels(),fontsize = 14);\n",
    "    ax_[i].set_title(titles[i])\n",
    "    f.tight_layout()"
   ]
  },
  {
   "cell_type": "code",
   "execution_count": 20,
   "id": "c92d0cb8",
   "metadata": {
    "scrolled": false
   },
   "outputs": [
    {
     "data": {
      "text/html": [
       "<div>\n",
       "<style scoped>\n",
       "    .dataframe tbody tr th:only-of-type {\n",
       "        vertical-align: middle;\n",
       "    }\n",
       "\n",
       "    .dataframe tbody tr th {\n",
       "        vertical-align: top;\n",
       "    }\n",
       "\n",
       "    .dataframe thead th {\n",
       "        text-align: right;\n",
       "    }\n",
       "</style>\n",
       "<table border=\"1\" class=\"dataframe\">\n",
       "  <thead>\n",
       "    <tr style=\"text-align: right;\">\n",
       "      <th></th>\n",
       "      <th>City</th>\n",
       "      <th>Date</th>\n",
       "      <th>PM2.5</th>\n",
       "      <th>PM10</th>\n",
       "      <th>NO</th>\n",
       "      <th>NO2</th>\n",
       "      <th>NOx</th>\n",
       "      <th>NH3</th>\n",
       "      <th>CO</th>\n",
       "      <th>SO2</th>\n",
       "      <th>O3</th>\n",
       "      <th>Benzene</th>\n",
       "      <th>Toluene</th>\n",
       "      <th>Xylene</th>\n",
       "      <th>AQI</th>\n",
       "      <th>AQI_Bucket</th>\n",
       "      <th>Temperature</th>\n",
       "      <th>Humidity</th>\n",
       "      <th>WindSpeed</th>\n",
       "    </tr>\n",
       "  </thead>\n",
       "  <tbody>\n",
       "    <tr>\n",
       "      <th>27</th>\n",
       "      <td>Ahmedabad</td>\n",
       "      <td>2015-01-28</td>\n",
       "      <td>73.24</td>\n",
       "      <td>118.127103</td>\n",
       "      <td>5.72</td>\n",
       "      <td>21.11</td>\n",
       "      <td>25.84</td>\n",
       "      <td>23.483476</td>\n",
       "      <td>5.72</td>\n",
       "      <td>36.52</td>\n",
       "      <td>62.42</td>\n",
       "      <td>0.03</td>\n",
       "      <td>0.01</td>\n",
       "      <td>1.41</td>\n",
       "      <td>100.0</td>\n",
       "      <td>Moderate</td>\n",
       "      <td>2.60</td>\n",
       "      <td>55.35</td>\n",
       "      <td>16.05</td>\n",
       "    </tr>\n",
       "    <tr>\n",
       "      <th>28</th>\n",
       "      <td>Ahmedabad</td>\n",
       "      <td>2015-01-29</td>\n",
       "      <td>83.13</td>\n",
       "      <td>118.127103</td>\n",
       "      <td>6.93</td>\n",
       "      <td>28.71</td>\n",
       "      <td>33.72</td>\n",
       "      <td>23.483476</td>\n",
       "      <td>6.93</td>\n",
       "      <td>49.52</td>\n",
       "      <td>59.76</td>\n",
       "      <td>0.02</td>\n",
       "      <td>0.00</td>\n",
       "      <td>3.14</td>\n",
       "      <td>209.0</td>\n",
       "      <td>Poor</td>\n",
       "      <td>8.42</td>\n",
       "      <td>46.90</td>\n",
       "      <td>11.63</td>\n",
       "    </tr>\n",
       "    <tr>\n",
       "      <th>29</th>\n",
       "      <td>Ahmedabad</td>\n",
       "      <td>2015-01-30</td>\n",
       "      <td>79.84</td>\n",
       "      <td>118.127103</td>\n",
       "      <td>13.85</td>\n",
       "      <td>28.68</td>\n",
       "      <td>41.08</td>\n",
       "      <td>23.483476</td>\n",
       "      <td>13.85</td>\n",
       "      <td>48.49</td>\n",
       "      <td>97.07</td>\n",
       "      <td>0.04</td>\n",
       "      <td>0.00</td>\n",
       "      <td>4.81</td>\n",
       "      <td>328.0</td>\n",
       "      <td>Very Poor</td>\n",
       "      <td>15.02</td>\n",
       "      <td>64.92</td>\n",
       "      <td>8.85</td>\n",
       "    </tr>\n",
       "    <tr>\n",
       "      <th>30</th>\n",
       "      <td>Ahmedabad</td>\n",
       "      <td>2015-01-31</td>\n",
       "      <td>94.52</td>\n",
       "      <td>118.127103</td>\n",
       "      <td>24.39</td>\n",
       "      <td>32.66</td>\n",
       "      <td>52.61</td>\n",
       "      <td>23.483476</td>\n",
       "      <td>24.39</td>\n",
       "      <td>67.39</td>\n",
       "      <td>111.33</td>\n",
       "      <td>0.24</td>\n",
       "      <td>0.01</td>\n",
       "      <td>7.67</td>\n",
       "      <td>514.0</td>\n",
       "      <td>Severe</td>\n",
       "      <td>16.75</td>\n",
       "      <td>38.84</td>\n",
       "      <td>3.70</td>\n",
       "    </tr>\n",
       "    <tr>\n",
       "      <th>31</th>\n",
       "      <td>Ahmedabad</td>\n",
       "      <td>2015-02-01</td>\n",
       "      <td>135.99</td>\n",
       "      <td>118.127103</td>\n",
       "      <td>43.48</td>\n",
       "      <td>42.08</td>\n",
       "      <td>84.57</td>\n",
       "      <td>23.483476</td>\n",
       "      <td>43.48</td>\n",
       "      <td>75.23</td>\n",
       "      <td>102.70</td>\n",
       "      <td>0.40</td>\n",
       "      <td>0.04</td>\n",
       "      <td>25.87</td>\n",
       "      <td>782.0</td>\n",
       "      <td>Severe</td>\n",
       "      <td>10.95</td>\n",
       "      <td>59.14</td>\n",
       "      <td>8.86</td>\n",
       "    </tr>\n",
       "  </tbody>\n",
       "</table>\n",
       "</div>"
      ],
      "text/plain": [
       "         City        Date   PM2.5        PM10     NO    NO2    NOx        NH3  \\\n",
       "27  Ahmedabad  2015-01-28   73.24  118.127103   5.72  21.11  25.84  23.483476   \n",
       "28  Ahmedabad  2015-01-29   83.13  118.127103   6.93  28.71  33.72  23.483476   \n",
       "29  Ahmedabad  2015-01-30   79.84  118.127103  13.85  28.68  41.08  23.483476   \n",
       "30  Ahmedabad  2015-01-31   94.52  118.127103  24.39  32.66  52.61  23.483476   \n",
       "31  Ahmedabad  2015-02-01  135.99  118.127103  43.48  42.08  84.57  23.483476   \n",
       "\n",
       "       CO    SO2      O3  Benzene  Toluene  Xylene    AQI AQI_Bucket  \\\n",
       "27   5.72  36.52   62.42     0.03     0.01    1.41  100.0   Moderate   \n",
       "28   6.93  49.52   59.76     0.02     0.00    3.14  209.0       Poor   \n",
       "29  13.85  48.49   97.07     0.04     0.00    4.81  328.0  Very Poor   \n",
       "30  24.39  67.39  111.33     0.24     0.01    7.67  514.0     Severe   \n",
       "31  43.48  75.23  102.70     0.40     0.04   25.87  782.0     Severe   \n",
       "\n",
       "    Temperature  Humidity  WindSpeed  \n",
       "27         2.60     55.35      16.05  \n",
       "28         8.42     46.90      11.63  \n",
       "29        15.02     64.92       8.85  \n",
       "30        16.75     38.84       3.70  \n",
       "31        10.95     59.14       8.86  "
      ]
     },
     "execution_count": 20,
     "metadata": {},
     "output_type": "execute_result"
    }
   ],
   "source": [
    "data.head()"
   ]
  },
  {
   "cell_type": "code",
   "execution_count": 21,
   "id": "56b522ba",
   "metadata": {},
   "outputs": [],
   "source": [
    "data['Date'] = pd.to_datetime(data['Date'], format='%Y-%m-%d')"
   ]
  },
  {
   "cell_type": "code",
   "execution_count": 22,
   "id": "c375cbd0",
   "metadata": {},
   "outputs": [],
   "source": [
    "data['Year'] = data['Date'].dt.year\n",
    "data['Month'] = data['Date'].dt.month\n",
    "data['Day'] = data['Date'].dt.day"
   ]
  },
  {
   "cell_type": "code",
   "execution_count": 23,
   "id": "d37a6ec5",
   "metadata": {},
   "outputs": [],
   "source": [
    "data.drop(['Date'],axis=1,inplace=True)"
   ]
  },
  {
   "cell_type": "code",
   "execution_count": 24,
   "id": "af03408e",
   "metadata": {},
   "outputs": [
    {
     "data": {
      "text/html": [
       "<div>\n",
       "<style scoped>\n",
       "    .dataframe tbody tr th:only-of-type {\n",
       "        vertical-align: middle;\n",
       "    }\n",
       "\n",
       "    .dataframe tbody tr th {\n",
       "        vertical-align: top;\n",
       "    }\n",
       "\n",
       "    .dataframe thead th {\n",
       "        text-align: right;\n",
       "    }\n",
       "</style>\n",
       "<table border=\"1\" class=\"dataframe\">\n",
       "  <thead>\n",
       "    <tr style=\"text-align: right;\">\n",
       "      <th></th>\n",
       "      <th>City</th>\n",
       "      <th>PM2.5</th>\n",
       "      <th>PM10</th>\n",
       "      <th>NO</th>\n",
       "      <th>NO2</th>\n",
       "      <th>NOx</th>\n",
       "      <th>NH3</th>\n",
       "      <th>CO</th>\n",
       "      <th>SO2</th>\n",
       "      <th>O3</th>\n",
       "      <th>...</th>\n",
       "      <th>Toluene</th>\n",
       "      <th>Xylene</th>\n",
       "      <th>AQI</th>\n",
       "      <th>AQI_Bucket</th>\n",
       "      <th>Temperature</th>\n",
       "      <th>Humidity</th>\n",
       "      <th>WindSpeed</th>\n",
       "      <th>Year</th>\n",
       "      <th>Month</th>\n",
       "      <th>Day</th>\n",
       "    </tr>\n",
       "  </thead>\n",
       "  <tbody>\n",
       "    <tr>\n",
       "      <th>27</th>\n",
       "      <td>Ahmedabad</td>\n",
       "      <td>73.24</td>\n",
       "      <td>118.127103</td>\n",
       "      <td>5.72</td>\n",
       "      <td>21.11</td>\n",
       "      <td>25.84</td>\n",
       "      <td>23.483476</td>\n",
       "      <td>5.72</td>\n",
       "      <td>36.52</td>\n",
       "      <td>62.42</td>\n",
       "      <td>...</td>\n",
       "      <td>0.01</td>\n",
       "      <td>1.41</td>\n",
       "      <td>100.0</td>\n",
       "      <td>Moderate</td>\n",
       "      <td>2.60</td>\n",
       "      <td>55.35</td>\n",
       "      <td>16.05</td>\n",
       "      <td>2015</td>\n",
       "      <td>1</td>\n",
       "      <td>28</td>\n",
       "    </tr>\n",
       "    <tr>\n",
       "      <th>28</th>\n",
       "      <td>Ahmedabad</td>\n",
       "      <td>83.13</td>\n",
       "      <td>118.127103</td>\n",
       "      <td>6.93</td>\n",
       "      <td>28.71</td>\n",
       "      <td>33.72</td>\n",
       "      <td>23.483476</td>\n",
       "      <td>6.93</td>\n",
       "      <td>49.52</td>\n",
       "      <td>59.76</td>\n",
       "      <td>...</td>\n",
       "      <td>0.00</td>\n",
       "      <td>3.14</td>\n",
       "      <td>209.0</td>\n",
       "      <td>Poor</td>\n",
       "      <td>8.42</td>\n",
       "      <td>46.90</td>\n",
       "      <td>11.63</td>\n",
       "      <td>2015</td>\n",
       "      <td>1</td>\n",
       "      <td>29</td>\n",
       "    </tr>\n",
       "    <tr>\n",
       "      <th>29</th>\n",
       "      <td>Ahmedabad</td>\n",
       "      <td>79.84</td>\n",
       "      <td>118.127103</td>\n",
       "      <td>13.85</td>\n",
       "      <td>28.68</td>\n",
       "      <td>41.08</td>\n",
       "      <td>23.483476</td>\n",
       "      <td>13.85</td>\n",
       "      <td>48.49</td>\n",
       "      <td>97.07</td>\n",
       "      <td>...</td>\n",
       "      <td>0.00</td>\n",
       "      <td>4.81</td>\n",
       "      <td>328.0</td>\n",
       "      <td>Very Poor</td>\n",
       "      <td>15.02</td>\n",
       "      <td>64.92</td>\n",
       "      <td>8.85</td>\n",
       "      <td>2015</td>\n",
       "      <td>1</td>\n",
       "      <td>30</td>\n",
       "    </tr>\n",
       "    <tr>\n",
       "      <th>30</th>\n",
       "      <td>Ahmedabad</td>\n",
       "      <td>94.52</td>\n",
       "      <td>118.127103</td>\n",
       "      <td>24.39</td>\n",
       "      <td>32.66</td>\n",
       "      <td>52.61</td>\n",
       "      <td>23.483476</td>\n",
       "      <td>24.39</td>\n",
       "      <td>67.39</td>\n",
       "      <td>111.33</td>\n",
       "      <td>...</td>\n",
       "      <td>0.01</td>\n",
       "      <td>7.67</td>\n",
       "      <td>514.0</td>\n",
       "      <td>Severe</td>\n",
       "      <td>16.75</td>\n",
       "      <td>38.84</td>\n",
       "      <td>3.70</td>\n",
       "      <td>2015</td>\n",
       "      <td>1</td>\n",
       "      <td>31</td>\n",
       "    </tr>\n",
       "    <tr>\n",
       "      <th>31</th>\n",
       "      <td>Ahmedabad</td>\n",
       "      <td>135.99</td>\n",
       "      <td>118.127103</td>\n",
       "      <td>43.48</td>\n",
       "      <td>42.08</td>\n",
       "      <td>84.57</td>\n",
       "      <td>23.483476</td>\n",
       "      <td>43.48</td>\n",
       "      <td>75.23</td>\n",
       "      <td>102.70</td>\n",
       "      <td>...</td>\n",
       "      <td>0.04</td>\n",
       "      <td>25.87</td>\n",
       "      <td>782.0</td>\n",
       "      <td>Severe</td>\n",
       "      <td>10.95</td>\n",
       "      <td>59.14</td>\n",
       "      <td>8.86</td>\n",
       "      <td>2015</td>\n",
       "      <td>2</td>\n",
       "      <td>1</td>\n",
       "    </tr>\n",
       "  </tbody>\n",
       "</table>\n",
       "<p>5 rows × 21 columns</p>\n",
       "</div>"
      ],
      "text/plain": [
       "         City   PM2.5        PM10     NO    NO2    NOx        NH3     CO  \\\n",
       "27  Ahmedabad   73.24  118.127103   5.72  21.11  25.84  23.483476   5.72   \n",
       "28  Ahmedabad   83.13  118.127103   6.93  28.71  33.72  23.483476   6.93   \n",
       "29  Ahmedabad   79.84  118.127103  13.85  28.68  41.08  23.483476  13.85   \n",
       "30  Ahmedabad   94.52  118.127103  24.39  32.66  52.61  23.483476  24.39   \n",
       "31  Ahmedabad  135.99  118.127103  43.48  42.08  84.57  23.483476  43.48   \n",
       "\n",
       "      SO2      O3  ...  Toluene  Xylene    AQI  AQI_Bucket Temperature  \\\n",
       "27  36.52   62.42  ...     0.01    1.41  100.0    Moderate        2.60   \n",
       "28  49.52   59.76  ...     0.00    3.14  209.0        Poor        8.42   \n",
       "29  48.49   97.07  ...     0.00    4.81  328.0   Very Poor       15.02   \n",
       "30  67.39  111.33  ...     0.01    7.67  514.0      Severe       16.75   \n",
       "31  75.23  102.70  ...     0.04   25.87  782.0      Severe       10.95   \n",
       "\n",
       "    Humidity  WindSpeed  Year  Month  Day  \n",
       "27     55.35      16.05  2015      1   28  \n",
       "28     46.90      11.63  2015      1   29  \n",
       "29     64.92       8.85  2015      1   30  \n",
       "30     38.84       3.70  2015      1   31  \n",
       "31     59.14       8.86  2015      2    1  \n",
       "\n",
       "[5 rows x 21 columns]"
      ]
     },
     "execution_count": 24,
     "metadata": {},
     "output_type": "execute_result"
    }
   ],
   "source": [
    "data.head()"
   ]
  },
  {
   "cell_type": "code",
   "execution_count": 25,
   "id": "291e1a1d",
   "metadata": {
    "scrolled": true
   },
   "outputs": [
    {
     "data": {
      "text/html": [
       "<div>\n",
       "<style scoped>\n",
       "    .dataframe tbody tr th:only-of-type {\n",
       "        vertical-align: middle;\n",
       "    }\n",
       "\n",
       "    .dataframe tbody tr th {\n",
       "        vertical-align: top;\n",
       "    }\n",
       "\n",
       "    .dataframe thead th {\n",
       "        text-align: right;\n",
       "    }\n",
       "</style>\n",
       "<table border=\"1\" class=\"dataframe\">\n",
       "  <thead>\n",
       "    <tr style=\"text-align: right;\">\n",
       "      <th></th>\n",
       "      <th>City</th>\n",
       "      <th>PM2.5</th>\n",
       "      <th>PM10</th>\n",
       "      <th>NO</th>\n",
       "      <th>NO2</th>\n",
       "      <th>NOx</th>\n",
       "      <th>NH3</th>\n",
       "      <th>CO</th>\n",
       "      <th>SO2</th>\n",
       "      <th>O3</th>\n",
       "      <th>...</th>\n",
       "      <th>Toluene</th>\n",
       "      <th>Xylene</th>\n",
       "      <th>AQI</th>\n",
       "      <th>AQI_Bucket</th>\n",
       "      <th>Temperature</th>\n",
       "      <th>Humidity</th>\n",
       "      <th>WindSpeed</th>\n",
       "      <th>Year</th>\n",
       "      <th>Month</th>\n",
       "      <th>Day</th>\n",
       "    </tr>\n",
       "  </thead>\n",
       "  <tbody>\n",
       "    <tr>\n",
       "      <th>0</th>\n",
       "      <td>Ahmedabad</td>\n",
       "      <td>73.24</td>\n",
       "      <td>118.127103</td>\n",
       "      <td>5.72</td>\n",
       "      <td>21.11</td>\n",
       "      <td>25.84</td>\n",
       "      <td>23.483476</td>\n",
       "      <td>5.72</td>\n",
       "      <td>36.52</td>\n",
       "      <td>62.42</td>\n",
       "      <td>...</td>\n",
       "      <td>0.01</td>\n",
       "      <td>1.41</td>\n",
       "      <td>100.0</td>\n",
       "      <td>Moderate</td>\n",
       "      <td>2.60</td>\n",
       "      <td>55.35</td>\n",
       "      <td>16.05</td>\n",
       "      <td>2015</td>\n",
       "      <td>1</td>\n",
       "      <td>28</td>\n",
       "    </tr>\n",
       "    <tr>\n",
       "      <th>1</th>\n",
       "      <td>Ahmedabad</td>\n",
       "      <td>83.13</td>\n",
       "      <td>118.127103</td>\n",
       "      <td>6.93</td>\n",
       "      <td>28.71</td>\n",
       "      <td>33.72</td>\n",
       "      <td>23.483476</td>\n",
       "      <td>6.93</td>\n",
       "      <td>49.52</td>\n",
       "      <td>59.76</td>\n",
       "      <td>...</td>\n",
       "      <td>0.00</td>\n",
       "      <td>3.14</td>\n",
       "      <td>209.0</td>\n",
       "      <td>Poor</td>\n",
       "      <td>8.42</td>\n",
       "      <td>46.90</td>\n",
       "      <td>11.63</td>\n",
       "      <td>2015</td>\n",
       "      <td>1</td>\n",
       "      <td>29</td>\n",
       "    </tr>\n",
       "    <tr>\n",
       "      <th>2</th>\n",
       "      <td>Ahmedabad</td>\n",
       "      <td>79.84</td>\n",
       "      <td>118.127103</td>\n",
       "      <td>13.85</td>\n",
       "      <td>28.68</td>\n",
       "      <td>41.08</td>\n",
       "      <td>23.483476</td>\n",
       "      <td>13.85</td>\n",
       "      <td>48.49</td>\n",
       "      <td>97.07</td>\n",
       "      <td>...</td>\n",
       "      <td>0.00</td>\n",
       "      <td>4.81</td>\n",
       "      <td>328.0</td>\n",
       "      <td>Very Poor</td>\n",
       "      <td>15.02</td>\n",
       "      <td>64.92</td>\n",
       "      <td>8.85</td>\n",
       "      <td>2015</td>\n",
       "      <td>1</td>\n",
       "      <td>30</td>\n",
       "    </tr>\n",
       "    <tr>\n",
       "      <th>3</th>\n",
       "      <td>Ahmedabad</td>\n",
       "      <td>94.52</td>\n",
       "      <td>118.127103</td>\n",
       "      <td>24.39</td>\n",
       "      <td>32.66</td>\n",
       "      <td>52.61</td>\n",
       "      <td>23.483476</td>\n",
       "      <td>24.39</td>\n",
       "      <td>67.39</td>\n",
       "      <td>111.33</td>\n",
       "      <td>...</td>\n",
       "      <td>0.01</td>\n",
       "      <td>7.67</td>\n",
       "      <td>514.0</td>\n",
       "      <td>Severe</td>\n",
       "      <td>16.75</td>\n",
       "      <td>38.84</td>\n",
       "      <td>3.70</td>\n",
       "      <td>2015</td>\n",
       "      <td>1</td>\n",
       "      <td>31</td>\n",
       "    </tr>\n",
       "    <tr>\n",
       "      <th>4</th>\n",
       "      <td>Ahmedabad</td>\n",
       "      <td>135.99</td>\n",
       "      <td>118.127103</td>\n",
       "      <td>43.48</td>\n",
       "      <td>42.08</td>\n",
       "      <td>84.57</td>\n",
       "      <td>23.483476</td>\n",
       "      <td>43.48</td>\n",
       "      <td>75.23</td>\n",
       "      <td>102.70</td>\n",
       "      <td>...</td>\n",
       "      <td>0.04</td>\n",
       "      <td>25.87</td>\n",
       "      <td>782.0</td>\n",
       "      <td>Severe</td>\n",
       "      <td>10.95</td>\n",
       "      <td>59.14</td>\n",
       "      <td>8.86</td>\n",
       "      <td>2015</td>\n",
       "      <td>2</td>\n",
       "      <td>1</td>\n",
       "    </tr>\n",
       "  </tbody>\n",
       "</table>\n",
       "<p>5 rows × 21 columns</p>\n",
       "</div>"
      ],
      "text/plain": [
       "        City   PM2.5        PM10     NO    NO2    NOx        NH3     CO  \\\n",
       "0  Ahmedabad   73.24  118.127103   5.72  21.11  25.84  23.483476   5.72   \n",
       "1  Ahmedabad   83.13  118.127103   6.93  28.71  33.72  23.483476   6.93   \n",
       "2  Ahmedabad   79.84  118.127103  13.85  28.68  41.08  23.483476  13.85   \n",
       "3  Ahmedabad   94.52  118.127103  24.39  32.66  52.61  23.483476  24.39   \n",
       "4  Ahmedabad  135.99  118.127103  43.48  42.08  84.57  23.483476  43.48   \n",
       "\n",
       "     SO2      O3  ...  Toluene  Xylene    AQI  AQI_Bucket Temperature  \\\n",
       "0  36.52   62.42  ...     0.01    1.41  100.0    Moderate        2.60   \n",
       "1  49.52   59.76  ...     0.00    3.14  209.0        Poor        8.42   \n",
       "2  48.49   97.07  ...     0.00    4.81  328.0   Very Poor       15.02   \n",
       "3  67.39  111.33  ...     0.01    7.67  514.0      Severe       16.75   \n",
       "4  75.23  102.70  ...     0.04   25.87  782.0      Severe       10.95   \n",
       "\n",
       "   Humidity  WindSpeed  Year  Month  Day  \n",
       "0     55.35      16.05  2015      1   28  \n",
       "1     46.90      11.63  2015      1   29  \n",
       "2     64.92       8.85  2015      1   30  \n",
       "3     38.84       3.70  2015      1   31  \n",
       "4     59.14       8.86  2015      2    1  \n",
       "\n",
       "[5 rows x 21 columns]"
      ]
     },
     "execution_count": 25,
     "metadata": {},
     "output_type": "execute_result"
    }
   ],
   "source": [
    "data.reset_index(drop=True,inplace=True)\n",
    "data.head()"
   ]
  },
  {
   "cell_type": "code",
   "execution_count": 26,
   "id": "412aad96",
   "metadata": {},
   "outputs": [
    {
     "data": {
      "text/plain": [
       "(26017, 21)"
      ]
     },
     "execution_count": 26,
     "metadata": {},
     "output_type": "execute_result"
    }
   ],
   "source": [
    "data.shape"
   ]
  },
  {
   "cell_type": "code",
   "execution_count": 27,
   "id": "de8a078b",
   "metadata": {},
   "outputs": [
    {
     "data": {
      "text/plain": [
       "City           0\n",
       "PM2.5          0\n",
       "PM10           0\n",
       "NO             0\n",
       "NO2            0\n",
       "NOx            0\n",
       "NH3            0\n",
       "CO             0\n",
       "SO2            0\n",
       "O3             0\n",
       "Benzene        0\n",
       "Toluene        0\n",
       "Xylene         0\n",
       "AQI            0\n",
       "AQI_Bucket     0\n",
       "Temperature    0\n",
       "Humidity       0\n",
       "WindSpeed      0\n",
       "Year           0\n",
       "Month          0\n",
       "Day            0\n",
       "dtype: int64"
      ]
     },
     "execution_count": 27,
     "metadata": {},
     "output_type": "execute_result"
    }
   ],
   "source": [
    "data.isnull().sum()"
   ]
  },
  {
   "cell_type": "code",
   "execution_count": 28,
   "id": "622b89a5",
   "metadata": {},
   "outputs": [
    {
     "data": {
      "text/html": [
       "<div>\n",
       "<style scoped>\n",
       "    .dataframe tbody tr th:only-of-type {\n",
       "        vertical-align: middle;\n",
       "    }\n",
       "\n",
       "    .dataframe tbody tr th {\n",
       "        vertical-align: top;\n",
       "    }\n",
       "\n",
       "    .dataframe thead th {\n",
       "        text-align: right;\n",
       "    }\n",
       "</style>\n",
       "<table border=\"1\" class=\"dataframe\">\n",
       "  <thead>\n",
       "    <tr style=\"text-align: right;\">\n",
       "      <th></th>\n",
       "      <th>count</th>\n",
       "      <th>mean</th>\n",
       "      <th>std</th>\n",
       "      <th>min</th>\n",
       "      <th>25%</th>\n",
       "      <th>50%</th>\n",
       "      <th>75%</th>\n",
       "      <th>max</th>\n",
       "    </tr>\n",
       "  </thead>\n",
       "  <tbody>\n",
       "    <tr>\n",
       "      <th>PM2.5</th>\n",
       "      <td>26017.0</td>\n",
       "      <td>67.450578</td>\n",
       "      <td>63.300003</td>\n",
       "      <td>0.04</td>\n",
       "      <td>29.69</td>\n",
       "      <td>50.650000</td>\n",
       "      <td>78.470000</td>\n",
       "      <td>949.99</td>\n",
       "    </tr>\n",
       "    <tr>\n",
       "      <th>PM10</th>\n",
       "      <td>26017.0</td>\n",
       "      <td>118.127103</td>\n",
       "      <td>76.176900</td>\n",
       "      <td>0.01</td>\n",
       "      <td>71.75</td>\n",
       "      <td>118.127103</td>\n",
       "      <td>121.510000</td>\n",
       "      <td>1000.00</td>\n",
       "    </tr>\n",
       "    <tr>\n",
       "      <th>NO</th>\n",
       "      <td>26017.0</td>\n",
       "      <td>17.584941</td>\n",
       "      <td>22.573145</td>\n",
       "      <td>0.03</td>\n",
       "      <td>5.71</td>\n",
       "      <td>10.070000</td>\n",
       "      <td>19.580000</td>\n",
       "      <td>390.68</td>\n",
       "    </tr>\n",
       "    <tr>\n",
       "      <th>NO2</th>\n",
       "      <td>26017.0</td>\n",
       "      <td>28.723100</td>\n",
       "      <td>24.375776</td>\n",
       "      <td>0.01</td>\n",
       "      <td>11.88</td>\n",
       "      <td>22.350000</td>\n",
       "      <td>37.490000</td>\n",
       "      <td>362.21</td>\n",
       "    </tr>\n",
       "    <tr>\n",
       "      <th>NOx</th>\n",
       "      <td>26017.0</td>\n",
       "      <td>32.037872</td>\n",
       "      <td>29.523912</td>\n",
       "      <td>0.00</td>\n",
       "      <td>13.88</td>\n",
       "      <td>25.640000</td>\n",
       "      <td>37.780000</td>\n",
       "      <td>382.84</td>\n",
       "    </tr>\n",
       "    <tr>\n",
       "      <th>NH3</th>\n",
       "      <td>26017.0</td>\n",
       "      <td>23.483476</td>\n",
       "      <td>22.065831</td>\n",
       "      <td>0.01</td>\n",
       "      <td>10.91</td>\n",
       "      <td>23.483476</td>\n",
       "      <td>24.280000</td>\n",
       "      <td>352.89</td>\n",
       "    </tr>\n",
       "    <tr>\n",
       "      <th>CO</th>\n",
       "      <td>26017.0</td>\n",
       "      <td>2.335522</td>\n",
       "      <td>6.986486</td>\n",
       "      <td>0.00</td>\n",
       "      <td>0.58</td>\n",
       "      <td>0.940000</td>\n",
       "      <td>1.530000</td>\n",
       "      <td>175.81</td>\n",
       "    </tr>\n",
       "    <tr>\n",
       "      <th>SO2</th>\n",
       "      <td>26017.0</td>\n",
       "      <td>14.436841</td>\n",
       "      <td>17.330169</td>\n",
       "      <td>0.01</td>\n",
       "      <td>5.78</td>\n",
       "      <td>9.440000</td>\n",
       "      <td>14.940000</td>\n",
       "      <td>186.08</td>\n",
       "    </tr>\n",
       "    <tr>\n",
       "      <th>O3</th>\n",
       "      <td>26017.0</td>\n",
       "      <td>34.682968</td>\n",
       "      <td>21.312111</td>\n",
       "      <td>0.01</td>\n",
       "      <td>19.49</td>\n",
       "      <td>31.930000</td>\n",
       "      <td>45.030000</td>\n",
       "      <td>257.73</td>\n",
       "    </tr>\n",
       "    <tr>\n",
       "      <th>Benzene</th>\n",
       "      <td>26017.0</td>\n",
       "      <td>3.521857</td>\n",
       "      <td>15.126421</td>\n",
       "      <td>0.00</td>\n",
       "      <td>0.32</td>\n",
       "      <td>1.810000</td>\n",
       "      <td>3.521857</td>\n",
       "      <td>455.03</td>\n",
       "    </tr>\n",
       "    <tr>\n",
       "      <th>Toluene</th>\n",
       "      <td>26017.0</td>\n",
       "      <td>9.403220</td>\n",
       "      <td>18.007294</td>\n",
       "      <td>0.00</td>\n",
       "      <td>1.55</td>\n",
       "      <td>6.870000</td>\n",
       "      <td>9.403220</td>\n",
       "      <td>454.85</td>\n",
       "    </tr>\n",
       "    <tr>\n",
       "      <th>Xylene</th>\n",
       "      <td>26017.0</td>\n",
       "      <td>3.548539</td>\n",
       "      <td>4.105666</td>\n",
       "      <td>0.00</td>\n",
       "      <td>2.72</td>\n",
       "      <td>3.548539</td>\n",
       "      <td>3.548539</td>\n",
       "      <td>170.37</td>\n",
       "    </tr>\n",
       "    <tr>\n",
       "      <th>AQI</th>\n",
       "      <td>26017.0</td>\n",
       "      <td>163.448207</td>\n",
       "      <td>138.152067</td>\n",
       "      <td>13.00</td>\n",
       "      <td>83.00</td>\n",
       "      <td>113.000000</td>\n",
       "      <td>199.000000</td>\n",
       "      <td>2049.00</td>\n",
       "    </tr>\n",
       "    <tr>\n",
       "      <th>Temperature</th>\n",
       "      <td>26017.0</td>\n",
       "      <td>27.389463</td>\n",
       "      <td>12.665137</td>\n",
       "      <td>-1.00</td>\n",
       "      <td>17.70</td>\n",
       "      <td>27.370000</td>\n",
       "      <td>37.010000</td>\n",
       "      <td>56.00</td>\n",
       "    </tr>\n",
       "    <tr>\n",
       "      <th>Humidity</th>\n",
       "      <td>26017.0</td>\n",
       "      <td>55.000329</td>\n",
       "      <td>14.452613</td>\n",
       "      <td>30.00</td>\n",
       "      <td>42.44</td>\n",
       "      <td>54.920000</td>\n",
       "      <td>67.630000</td>\n",
       "      <td>80.00</td>\n",
       "    </tr>\n",
       "    <tr>\n",
       "      <th>WindSpeed</th>\n",
       "      <td>26017.0</td>\n",
       "      <td>10.927818</td>\n",
       "      <td>5.194124</td>\n",
       "      <td>2.00</td>\n",
       "      <td>6.43</td>\n",
       "      <td>10.880000</td>\n",
       "      <td>15.420000</td>\n",
       "      <td>20.00</td>\n",
       "    </tr>\n",
       "    <tr>\n",
       "      <th>Year</th>\n",
       "      <td>26017.0</td>\n",
       "      <td>2018.055887</td>\n",
       "      <td>1.489827</td>\n",
       "      <td>2015.00</td>\n",
       "      <td>2017.00</td>\n",
       "      <td>2018.000000</td>\n",
       "      <td>2019.000000</td>\n",
       "      <td>2020.00</td>\n",
       "    </tr>\n",
       "    <tr>\n",
       "      <th>Month</th>\n",
       "      <td>26017.0</td>\n",
       "      <td>6.281816</td>\n",
       "      <td>3.436371</td>\n",
       "      <td>1.00</td>\n",
       "      <td>3.00</td>\n",
       "      <td>6.000000</td>\n",
       "      <td>9.000000</td>\n",
       "      <td>12.00</td>\n",
       "    </tr>\n",
       "    <tr>\n",
       "      <th>Day</th>\n",
       "      <td>26017.0</td>\n",
       "      <td>15.765730</td>\n",
       "      <td>8.817250</td>\n",
       "      <td>1.00</td>\n",
       "      <td>8.00</td>\n",
       "      <td>16.000000</td>\n",
       "      <td>23.000000</td>\n",
       "      <td>31.00</td>\n",
       "    </tr>\n",
       "  </tbody>\n",
       "</table>\n",
       "</div>"
      ],
      "text/plain": [
       "               count         mean         std      min      25%          50%  \\\n",
       "PM2.5        26017.0    67.450578   63.300003     0.04    29.69    50.650000   \n",
       "PM10         26017.0   118.127103   76.176900     0.01    71.75   118.127103   \n",
       "NO           26017.0    17.584941   22.573145     0.03     5.71    10.070000   \n",
       "NO2          26017.0    28.723100   24.375776     0.01    11.88    22.350000   \n",
       "NOx          26017.0    32.037872   29.523912     0.00    13.88    25.640000   \n",
       "NH3          26017.0    23.483476   22.065831     0.01    10.91    23.483476   \n",
       "CO           26017.0     2.335522    6.986486     0.00     0.58     0.940000   \n",
       "SO2          26017.0    14.436841   17.330169     0.01     5.78     9.440000   \n",
       "O3           26017.0    34.682968   21.312111     0.01    19.49    31.930000   \n",
       "Benzene      26017.0     3.521857   15.126421     0.00     0.32     1.810000   \n",
       "Toluene      26017.0     9.403220   18.007294     0.00     1.55     6.870000   \n",
       "Xylene       26017.0     3.548539    4.105666     0.00     2.72     3.548539   \n",
       "AQI          26017.0   163.448207  138.152067    13.00    83.00   113.000000   \n",
       "Temperature  26017.0    27.389463   12.665137    -1.00    17.70    27.370000   \n",
       "Humidity     26017.0    55.000329   14.452613    30.00    42.44    54.920000   \n",
       "WindSpeed    26017.0    10.927818    5.194124     2.00     6.43    10.880000   \n",
       "Year         26017.0  2018.055887    1.489827  2015.00  2017.00  2018.000000   \n",
       "Month        26017.0     6.281816    3.436371     1.00     3.00     6.000000   \n",
       "Day          26017.0    15.765730    8.817250     1.00     8.00    16.000000   \n",
       "\n",
       "                     75%      max  \n",
       "PM2.5          78.470000   949.99  \n",
       "PM10          121.510000  1000.00  \n",
       "NO             19.580000   390.68  \n",
       "NO2            37.490000   362.21  \n",
       "NOx            37.780000   382.84  \n",
       "NH3            24.280000   352.89  \n",
       "CO              1.530000   175.81  \n",
       "SO2            14.940000   186.08  \n",
       "O3             45.030000   257.73  \n",
       "Benzene         3.521857   455.03  \n",
       "Toluene         9.403220   454.85  \n",
       "Xylene          3.548539   170.37  \n",
       "AQI           199.000000  2049.00  \n",
       "Temperature    37.010000    56.00  \n",
       "Humidity       67.630000    80.00  \n",
       "WindSpeed      15.420000    20.00  \n",
       "Year         2019.000000  2020.00  \n",
       "Month           9.000000    12.00  \n",
       "Day            23.000000    31.00  "
      ]
     },
     "execution_count": 28,
     "metadata": {},
     "output_type": "execute_result"
    }
   ],
   "source": [
    "data.describe().transpose()"
   ]
  },
  {
   "cell_type": "code",
   "execution_count": 29,
   "id": "cd1116d6",
   "metadata": {},
   "outputs": [
    {
     "data": {
      "text/plain": [
       "Index(['City', 'PM2.5', 'PM10', 'NO', 'NO2', 'NOx', 'NH3', 'CO', 'SO2', 'O3',\n",
       "       'Benzene', 'Toluene', 'Xylene', 'AQI', 'AQI_Bucket', 'Temperature',\n",
       "       'Humidity', 'WindSpeed', 'Year', 'Month', 'Day'],\n",
       "      dtype='object')"
      ]
     },
     "execution_count": 29,
     "metadata": {},
     "output_type": "execute_result"
    }
   ],
   "source": [
    "data.columns"
   ]
  },
  {
   "cell_type": "code",
   "execution_count": 30,
   "id": "c30a41ca",
   "metadata": {},
   "outputs": [
    {
     "data": {
      "text/plain": [
       "<seaborn.axisgrid.FacetGrid at 0x2010de6cca0>"
      ]
     },
     "execution_count": 30,
     "metadata": {},
     "output_type": "execute_result"
    },
    {
     "data": {
      "text/plain": [
       "<Figure size 1000x600 with 0 Axes>"
      ]
     },
     "metadata": {},
     "output_type": "display_data"
    },
    {
     "data": {
      "image/png": "[encoded data removed]",
      "text/plain": [
       "<Figure size 500x500 with 1 Axes>"
      ]
     },
     "metadata": {},
     "output_type": "display_data"
    }
   ],
   "source": [
    "plt.figure(figsize=(10, 6))\n",
    "sns.displot(data['AQI'])"
   ]
  },
  {
   "cell_type": "code",
   "execution_count": 31,
   "id": "a610cfc3",
   "metadata": {},
   "outputs": [
    {
     "data": {
      "text/html": [
       "<div>\n",
       "<style scoped>\n",
       "    .dataframe tbody tr th:only-of-type {\n",
       "        vertical-align: middle;\n",
       "    }\n",
       "\n",
       "    .dataframe tbody tr th {\n",
       "        vertical-align: top;\n",
       "    }\n",
       "\n",
       "    .dataframe thead th {\n",
       "        text-align: right;\n",
       "    }\n",
       "</style>\n",
       "<table border=\"1\" class=\"dataframe\">\n",
       "  <thead>\n",
       "    <tr style=\"text-align: right;\">\n",
       "      <th></th>\n",
       "      <th>PM2.5</th>\n",
       "      <th>PM10</th>\n",
       "      <th>NO</th>\n",
       "      <th>NO2</th>\n",
       "      <th>NOx</th>\n",
       "      <th>NH3</th>\n",
       "      <th>CO</th>\n",
       "      <th>SO2</th>\n",
       "      <th>O3</th>\n",
       "      <th>Benzene</th>\n",
       "      <th>Toluene</th>\n",
       "      <th>Xylene</th>\n",
       "      <th>AQI</th>\n",
       "      <th>Temperature</th>\n",
       "      <th>Humidity</th>\n",
       "      <th>WindSpeed</th>\n",
       "      <th>Year</th>\n",
       "      <th>Month</th>\n",
       "      <th>Day</th>\n",
       "    </tr>\n",
       "  </thead>\n",
       "  <tbody>\n",
       "    <tr>\n",
       "      <th>PM2.5</th>\n",
       "      <td>1.000000</td>\n",
       "      <td>0.558079</td>\n",
       "      <td>0.429829</td>\n",
       "      <td>0.345242</td>\n",
       "      <td>0.402568</td>\n",
       "      <td>0.189227</td>\n",
       "      <td>0.088785</td>\n",
       "      <td>0.124245</td>\n",
       "      <td>0.156511</td>\n",
       "      <td>0.021537</td>\n",
       "      <td>0.107004</td>\n",
       "      <td>0.069679</td>\n",
       "      <td>0.626098</td>\n",
       "      <td>-0.178079</td>\n",
       "      <td>-0.001486</td>\n",
       "      <td>0.003961</td>\n",
       "      <td>-0.224996</td>\n",
       "      <td>0.043122</td>\n",
       "      <td>-0.011509</td>\n",
       "    </tr>\n",
       "    <tr>\n",
       "      <th>PM10</th>\n",
       "      <td>0.558079</td>\n",
       "      <td>1.000000</td>\n",
       "      <td>0.434498</td>\n",
       "      <td>0.360150</td>\n",
       "      <td>0.439083</td>\n",
       "      <td>0.223025</td>\n",
       "      <td>0.048726</td>\n",
       "      <td>0.183107</td>\n",
       "      <td>0.205133</td>\n",
       "      <td>0.018884</td>\n",
       "      <td>0.122465</td>\n",
       "      <td>0.031088</td>\n",
       "      <td>0.483638</td>\n",
       "      <td>-0.135013</td>\n",
       "      <td>-0.008832</td>\n",
       "      <td>0.010882</td>\n",
       "      <td>-0.157313</td>\n",
       "      <td>-0.008999</td>\n",
       "      <td>-0.021214</td>\n",
       "    </tr>\n",
       "    <tr>\n",
       "      <th>NO</th>\n",
       "      <td>0.429829</td>\n",
       "      <td>0.434498</td>\n",
       "      <td>1.000000</td>\n",
       "      <td>0.464714</td>\n",
       "      <td>0.783443</td>\n",
       "      <td>0.157659</td>\n",
       "      <td>0.211470</td>\n",
       "      <td>0.177401</td>\n",
       "      <td>0.015245</td>\n",
       "      <td>0.033955</td>\n",
       "      <td>0.135908</td>\n",
       "      <td>0.059105</td>\n",
       "      <td>0.432841</td>\n",
       "      <td>-0.099137</td>\n",
       "      <td>-0.001121</td>\n",
       "      <td>0.001704</td>\n",
       "      <td>-0.021076</td>\n",
       "      <td>0.030051</td>\n",
       "      <td>-0.004533</td>\n",
       "    </tr>\n",
       "    <tr>\n",
       "      <th>NO2</th>\n",
       "      <td>0.345242</td>\n",
       "      <td>0.360150</td>\n",
       "      <td>0.464714</td>\n",
       "      <td>1.000000</td>\n",
       "      <td>0.605925</td>\n",
       "      <td>0.166412</td>\n",
       "      <td>0.361539</td>\n",
       "      <td>0.399410</td>\n",
       "      <td>0.284046</td>\n",
       "      <td>0.023287</td>\n",
       "      <td>0.250493</td>\n",
       "      <td>0.121957</td>\n",
       "      <td>0.526742</td>\n",
       "      <td>-0.111278</td>\n",
       "      <td>0.001930</td>\n",
       "      <td>0.009758</td>\n",
       "      <td>-0.079450</td>\n",
       "      <td>0.035746</td>\n",
       "      <td>-0.007164</td>\n",
       "    </tr>\n",
       "    <tr>\n",
       "      <th>NOx</th>\n",
       "      <td>0.402568</td>\n",
       "      <td>0.439083</td>\n",
       "      <td>0.783443</td>\n",
       "      <td>0.605925</td>\n",
       "      <td>1.000000</td>\n",
       "      <td>0.135713</td>\n",
       "      <td>0.245050</td>\n",
       "      <td>0.234524</td>\n",
       "      <td>0.088201</td>\n",
       "      <td>0.040776</td>\n",
       "      <td>0.182026</td>\n",
       "      <td>0.063806</td>\n",
       "      <td>0.465214</td>\n",
       "      <td>-0.107728</td>\n",
       "      <td>0.001526</td>\n",
       "      <td>0.002862</td>\n",
       "      <td>-0.003632</td>\n",
       "      <td>0.018197</td>\n",
       "      <td>-0.007009</td>\n",
       "    </tr>\n",
       "    <tr>\n",
       "      <th>NH3</th>\n",
       "      <td>0.189227</td>\n",
       "      <td>0.223025</td>\n",
       "      <td>0.157659</td>\n",
       "      <td>0.166412</td>\n",
       "      <td>0.135713</td>\n",
       "      <td>1.000000</td>\n",
       "      <td>0.020392</td>\n",
       "      <td>-0.021797</td>\n",
       "      <td>0.079294</td>\n",
       "      <td>-0.012576</td>\n",
       "      <td>0.005291</td>\n",
       "      <td>0.002615</td>\n",
       "      <td>0.142393</td>\n",
       "      <td>-0.056048</td>\n",
       "      <td>0.005375</td>\n",
       "      <td>0.007703</td>\n",
       "      <td>-0.200960</td>\n",
       "      <td>0.018733</td>\n",
       "      <td>0.001059</td>\n",
       "    </tr>\n",
       "    <tr>\n",
       "      <th>CO</th>\n",
       "      <td>0.088785</td>\n",
       "      <td>0.048726</td>\n",
       "      <td>0.211470</td>\n",
       "      <td>0.361539</td>\n",
       "      <td>0.245050</td>\n",
       "      <td>0.020392</td>\n",
       "      <td>1.000000</td>\n",
       "      <td>0.484999</td>\n",
       "      <td>0.041845</td>\n",
       "      <td>0.059495</td>\n",
       "      <td>0.276209</td>\n",
       "      <td>0.129928</td>\n",
       "      <td>0.662878</td>\n",
       "      <td>-0.014610</td>\n",
       "      <td>0.012582</td>\n",
       "      <td>-0.007671</td>\n",
       "      <td>-0.077987</td>\n",
       "      <td>0.009703</td>\n",
       "      <td>0.004570</td>\n",
       "    </tr>\n",
       "    <tr>\n",
       "      <th>SO2</th>\n",
       "      <td>0.124245</td>\n",
       "      <td>0.183107</td>\n",
       "      <td>0.177401</td>\n",
       "      <td>0.399410</td>\n",
       "      <td>0.234524</td>\n",
       "      <td>-0.021797</td>\n",
       "      <td>0.484999</td>\n",
       "      <td>1.000000</td>\n",
       "      <td>0.162447</td>\n",
       "      <td>0.034665</td>\n",
       "      <td>0.280437</td>\n",
       "      <td>0.203519</td>\n",
       "      <td>0.466603</td>\n",
       "      <td>-0.050051</td>\n",
       "      <td>0.000292</td>\n",
       "      <td>-0.004416</td>\n",
       "      <td>0.053186</td>\n",
       "      <td>-0.016420</td>\n",
       "      <td>0.003483</td>\n",
       "    </tr>\n",
       "    <tr>\n",
       "      <th>O3</th>\n",
       "      <td>0.156511</td>\n",
       "      <td>0.205133</td>\n",
       "      <td>0.015245</td>\n",
       "      <td>0.284046</td>\n",
       "      <td>0.088201</td>\n",
       "      <td>0.079294</td>\n",
       "      <td>0.041845</td>\n",
       "      <td>0.162447</td>\n",
       "      <td>1.000000</td>\n",
       "      <td>0.017671</td>\n",
       "      <td>0.111152</td>\n",
       "      <td>0.063206</td>\n",
       "      <td>0.193984</td>\n",
       "      <td>-0.082130</td>\n",
       "      <td>0.006291</td>\n",
       "      <td>0.000973</td>\n",
       "      <td>-0.036338</td>\n",
       "      <td>-0.084385</td>\n",
       "      <td>-0.002416</td>\n",
       "    </tr>\n",
       "    <tr>\n",
       "      <th>Benzene</th>\n",
       "      <td>0.021537</td>\n",
       "      <td>0.018884</td>\n",
       "      <td>0.033955</td>\n",
       "      <td>0.023287</td>\n",
       "      <td>0.040776</td>\n",
       "      <td>-0.012576</td>\n",
       "      <td>0.059495</td>\n",
       "      <td>0.034665</td>\n",
       "      <td>0.017671</td>\n",
       "      <td>1.000000</td>\n",
       "      <td>0.694239</td>\n",
       "      <td>0.082648</td>\n",
       "      <td>0.039178</td>\n",
       "      <td>-0.034636</td>\n",
       "      <td>0.003180</td>\n",
       "      <td>0.009018</td>\n",
       "      <td>0.023287</td>\n",
       "      <td>-0.015840</td>\n",
       "      <td>-0.007270</td>\n",
       "    </tr>\n",
       "    <tr>\n",
       "      <th>Toluene</th>\n",
       "      <td>0.107004</td>\n",
       "      <td>0.122465</td>\n",
       "      <td>0.135908</td>\n",
       "      <td>0.250493</td>\n",
       "      <td>0.182026</td>\n",
       "      <td>0.005291</td>\n",
       "      <td>0.276209</td>\n",
       "      <td>0.280437</td>\n",
       "      <td>0.111152</td>\n",
       "      <td>0.694239</td>\n",
       "      <td>1.000000</td>\n",
       "      <td>0.231412</td>\n",
       "      <td>0.263721</td>\n",
       "      <td>-0.033501</td>\n",
       "      <td>0.004846</td>\n",
       "      <td>0.011624</td>\n",
       "      <td>0.058007</td>\n",
       "      <td>0.006820</td>\n",
       "      <td>-0.008991</td>\n",
       "    </tr>\n",
       "    <tr>\n",
       "      <th>Xylene</th>\n",
       "      <td>0.069679</td>\n",
       "      <td>0.031088</td>\n",
       "      <td>0.059105</td>\n",
       "      <td>0.121957</td>\n",
       "      <td>0.063806</td>\n",
       "      <td>0.002615</td>\n",
       "      <td>0.129928</td>\n",
       "      <td>0.203519</td>\n",
       "      <td>0.063206</td>\n",
       "      <td>0.082648</td>\n",
       "      <td>0.231412</td>\n",
       "      <td>1.000000</td>\n",
       "      <td>0.134556</td>\n",
       "      <td>0.005810</td>\n",
       "      <td>0.003832</td>\n",
       "      <td>0.019662</td>\n",
       "      <td>0.001508</td>\n",
       "      <td>0.064363</td>\n",
       "      <td>0.003293</td>\n",
       "    </tr>\n",
       "    <tr>\n",
       "      <th>AQI</th>\n",
       "      <td>0.626098</td>\n",
       "      <td>0.483638</td>\n",
       "      <td>0.432841</td>\n",
       "      <td>0.526742</td>\n",
       "      <td>0.465214</td>\n",
       "      <td>0.142393</td>\n",
       "      <td>0.662878</td>\n",
       "      <td>0.466603</td>\n",
       "      <td>0.193984</td>\n",
       "      <td>0.039178</td>\n",
       "      <td>0.263721</td>\n",
       "      <td>0.134556</td>\n",
       "      <td>1.000000</td>\n",
       "      <td>-0.139528</td>\n",
       "      <td>0.007701</td>\n",
       "      <td>-0.000280</td>\n",
       "      <td>-0.177883</td>\n",
       "      <td>0.021506</td>\n",
       "      <td>-0.004504</td>\n",
       "    </tr>\n",
       "    <tr>\n",
       "      <th>Temperature</th>\n",
       "      <td>-0.178079</td>\n",
       "      <td>-0.135013</td>\n",
       "      <td>-0.099137</td>\n",
       "      <td>-0.111278</td>\n",
       "      <td>-0.107728</td>\n",
       "      <td>-0.056048</td>\n",
       "      <td>-0.014610</td>\n",
       "      <td>-0.050051</td>\n",
       "      <td>-0.082130</td>\n",
       "      <td>-0.034636</td>\n",
       "      <td>-0.033501</td>\n",
       "      <td>0.005810</td>\n",
       "      <td>-0.139528</td>\n",
       "      <td>1.000000</td>\n",
       "      <td>0.009589</td>\n",
       "      <td>-0.003674</td>\n",
       "      <td>-0.049836</td>\n",
       "      <td>0.133707</td>\n",
       "      <td>0.004001</td>\n",
       "    </tr>\n",
       "    <tr>\n",
       "      <th>Humidity</th>\n",
       "      <td>-0.001486</td>\n",
       "      <td>-0.008832</td>\n",
       "      <td>-0.001121</td>\n",
       "      <td>0.001930</td>\n",
       "      <td>0.001526</td>\n",
       "      <td>0.005375</td>\n",
       "      <td>0.012582</td>\n",
       "      <td>0.000292</td>\n",
       "      <td>0.006291</td>\n",
       "      <td>0.003180</td>\n",
       "      <td>0.004846</td>\n",
       "      <td>0.003832</td>\n",
       "      <td>0.007701</td>\n",
       "      <td>0.009589</td>\n",
       "      <td>1.000000</td>\n",
       "      <td>-0.001571</td>\n",
       "      <td>0.000168</td>\n",
       "      <td>0.015223</td>\n",
       "      <td>-0.003933</td>\n",
       "    </tr>\n",
       "    <tr>\n",
       "      <th>WindSpeed</th>\n",
       "      <td>0.003961</td>\n",
       "      <td>0.010882</td>\n",
       "      <td>0.001704</td>\n",
       "      <td>0.009758</td>\n",
       "      <td>0.002862</td>\n",
       "      <td>0.007703</td>\n",
       "      <td>-0.007671</td>\n",
       "      <td>-0.004416</td>\n",
       "      <td>0.000973</td>\n",
       "      <td>0.009018</td>\n",
       "      <td>0.011624</td>\n",
       "      <td>0.019662</td>\n",
       "      <td>-0.000280</td>\n",
       "      <td>-0.003674</td>\n",
       "      <td>-0.001571</td>\n",
       "      <td>1.000000</td>\n",
       "      <td>-0.007811</td>\n",
       "      <td>0.013836</td>\n",
       "      <td>-0.010843</td>\n",
       "    </tr>\n",
       "    <tr>\n",
       "      <th>Year</th>\n",
       "      <td>-0.224996</td>\n",
       "      <td>-0.157313</td>\n",
       "      <td>-0.021076</td>\n",
       "      <td>-0.079450</td>\n",
       "      <td>-0.003632</td>\n",
       "      <td>-0.200960</td>\n",
       "      <td>-0.077987</td>\n",
       "      <td>0.053186</td>\n",
       "      <td>-0.036338</td>\n",
       "      <td>0.023287</td>\n",
       "      <td>0.058007</td>\n",
       "      <td>0.001508</td>\n",
       "      <td>-0.177883</td>\n",
       "      <td>-0.049836</td>\n",
       "      <td>0.000168</td>\n",
       "      <td>-0.007811</td>\n",
       "      <td>1.000000</td>\n",
       "      <td>-0.238557</td>\n",
       "      <td>-0.005356</td>\n",
       "    </tr>\n",
       "    <tr>\n",
       "      <th>Month</th>\n",
       "      <td>0.043122</td>\n",
       "      <td>-0.008999</td>\n",
       "      <td>0.030051</td>\n",
       "      <td>0.035746</td>\n",
       "      <td>0.018197</td>\n",
       "      <td>0.018733</td>\n",
       "      <td>0.009703</td>\n",
       "      <td>-0.016420</td>\n",
       "      <td>-0.084385</td>\n",
       "      <td>-0.015840</td>\n",
       "      <td>0.006820</td>\n",
       "      <td>0.064363</td>\n",
       "      <td>0.021506</td>\n",
       "      <td>0.133707</td>\n",
       "      <td>0.015223</td>\n",
       "      <td>0.013836</td>\n",
       "      <td>-0.238557</td>\n",
       "      <td>1.000000</td>\n",
       "      <td>0.008569</td>\n",
       "    </tr>\n",
       "    <tr>\n",
       "      <th>Day</th>\n",
       "      <td>-0.011509</td>\n",
       "      <td>-0.021214</td>\n",
       "      <td>-0.004533</td>\n",
       "      <td>-0.007164</td>\n",
       "      <td>-0.007009</td>\n",
       "      <td>0.001059</td>\n",
       "      <td>0.004570</td>\n",
       "      <td>0.003483</td>\n",
       "      <td>-0.002416</td>\n",
       "      <td>-0.007270</td>\n",
       "      <td>-0.008991</td>\n",
       "      <td>0.003293</td>\n",
       "      <td>-0.004504</td>\n",
       "      <td>0.004001</td>\n",
       "      <td>-0.003933</td>\n",
       "      <td>-0.010843</td>\n",
       "      <td>-0.005356</td>\n",
       "      <td>0.008569</td>\n",
       "      <td>1.000000</td>\n",
       "    </tr>\n",
       "  </tbody>\n",
       "</table>\n",
       "</div>"
      ],
      "text/plain": [
       "                PM2.5      PM10        NO       NO2       NOx       NH3  \\\n",
       "PM2.5        1.000000  0.558079  0.429829  0.345242  0.402568  0.189227   \n",
       "PM10         0.558079  1.000000  0.434498  0.360150  0.439083  0.223025   \n",
       "NO           0.429829  0.434498  1.000000  0.464714  0.783443  0.157659   \n",
       "NO2          0.345242  0.360150  0.464714  1.000000  0.605925  0.166412   \n",
       "NOx          0.402568  0.439083  0.783443  0.605925  1.000000  0.135713   \n",
       "NH3          0.189227  0.223025  0.157659  0.166412  0.135713  1.000000   \n",
       "CO           0.088785  0.048726  0.211470  0.361539  0.245050  0.020392   \n",
       "SO2          0.124245  0.183107  0.177401  0.399410  0.234524 -0.021797   \n",
       "O3           0.156511  0.205133  0.015245  0.284046  0.088201  0.079294   \n",
       "Benzene      0.021537  0.018884  0.033955  0.023287  0.040776 -0.012576   \n",
       "Toluene      0.107004  0.122465  0.135908  0.250493  0.182026  0.005291   \n",
       "Xylene       0.069679  0.031088  0.059105  0.121957  0.063806  0.002615   \n",
       "AQI          0.626098  0.483638  0.432841  0.526742  0.465214  0.142393   \n",
       "Temperature -0.178079 -0.135013 -0.099137 -0.111278 -0.107728 -0.056048   \n",
       "Humidity    -0.001486 -0.008832 -0.001121  0.001930  0.001526  0.005375   \n",
       "WindSpeed    0.003961  0.010882  0.001704  0.009758  0.002862  0.007703   \n",
       "Year        -0.224996 -0.157313 -0.021076 -0.079450 -0.003632 -0.200960   \n",
       "Month        0.043122 -0.008999  0.030051  0.035746  0.018197  0.018733   \n",
       "Day         -0.011509 -0.021214 -0.004533 -0.007164 -0.007009  0.001059   \n",
       "\n",
       "                   CO       SO2        O3   Benzene   Toluene    Xylene  \\\n",
       "PM2.5        0.088785  0.124245  0.156511  0.021537  0.107004  0.069679   \n",
       "PM10         0.048726  0.183107  0.205133  0.018884  0.122465  0.031088   \n",
       "NO           0.211470  0.177401  0.015245  0.033955  0.135908  0.059105   \n",
       "NO2          0.361539  0.399410  0.284046  0.023287  0.250493  0.121957   \n",
       "NOx          0.245050  0.234524  0.088201  0.040776  0.182026  0.063806   \n",
       "NH3          0.020392 -0.021797  0.079294 -0.012576  0.005291  0.002615   \n",
       "CO           1.000000  0.484999  0.041845  0.059495  0.276209  0.129928   \n",
       "SO2          0.484999  1.000000  0.162447  0.034665  0.280437  0.203519   \n",
       "O3           0.041845  0.162447  1.000000  0.017671  0.111152  0.063206   \n",
       "Benzene      0.059495  0.034665  0.017671  1.000000  0.694239  0.082648   \n",
       "Toluene      0.276209  0.280437  0.111152  0.694239  1.000000  0.231412   \n",
       "Xylene       0.129928  0.203519  0.063206  0.082648  0.231412  1.000000   \n",
       "AQI          0.662878  0.466603  0.193984  0.039178  0.263721  0.134556   \n",
       "Temperature -0.014610 -0.050051 -0.082130 -0.034636 -0.033501  0.005810   \n",
       "Humidity     0.012582  0.000292  0.006291  0.003180  0.004846  0.003832   \n",
       "WindSpeed   -0.007671 -0.004416  0.000973  0.009018  0.011624  0.019662   \n",
       "Year        -0.077987  0.053186 -0.036338  0.023287  0.058007  0.001508   \n",
       "Month        0.009703 -0.016420 -0.084385 -0.015840  0.006820  0.064363   \n",
       "Day          0.004570  0.003483 -0.002416 -0.007270 -0.008991  0.003293   \n",
       "\n",
       "                  AQI  Temperature  Humidity  WindSpeed      Year     Month  \\\n",
       "PM2.5        0.626098    -0.178079 -0.001486   0.003961 -0.224996  0.043122   \n",
       "PM10         0.483638    -0.135013 -0.008832   0.010882 -0.157313 -0.008999   \n",
       "NO           0.432841    -0.099137 -0.001121   0.001704 -0.021076  0.030051   \n",
       "NO2          0.526742    -0.111278  0.001930   0.009758 -0.079450  0.035746   \n",
       "NOx          0.465214    -0.107728  0.001526   0.002862 -0.003632  0.018197   \n",
       "NH3          0.142393    -0.056048  0.005375   0.007703 -0.200960  0.018733   \n",
       "CO           0.662878    -0.014610  0.012582  -0.007671 -0.077987  0.009703   \n",
       "SO2          0.466603    -0.050051  0.000292  -0.004416  0.053186 -0.016420   \n",
       "O3           0.193984    -0.082130  0.006291   0.000973 -0.036338 -0.084385   \n",
       "Benzene      0.039178    -0.034636  0.003180   0.009018  0.023287 -0.015840   \n",
       "Toluene      0.263721    -0.033501  0.004846   0.011624  0.058007  0.006820   \n",
       "Xylene       0.134556     0.005810  0.003832   0.019662  0.001508  0.064363   \n",
       "AQI          1.000000    -0.139528  0.007701  -0.000280 -0.177883  0.021506   \n",
       "Temperature -0.139528     1.000000  0.009589  -0.003674 -0.049836  0.133707   \n",
       "Humidity     0.007701     0.009589  1.000000  -0.001571  0.000168  0.015223   \n",
       "WindSpeed   -0.000280    -0.003674 -0.001571   1.000000 -0.007811  0.013836   \n",
       "Year        -0.177883    -0.049836  0.000168  -0.007811  1.000000 -0.238557   \n",
       "Month        0.021506     0.133707  0.015223   0.013836 -0.238557  1.000000   \n",
       "Day         -0.004504     0.004001 -0.003933  -0.010843 -0.005356  0.008569   \n",
       "\n",
       "                  Day  \n",
       "PM2.5       -0.011509  \n",
       "PM10        -0.021214  \n",
       "NO          -0.004533  \n",
       "NO2         -0.007164  \n",
       "NOx         -0.007009  \n",
       "NH3          0.001059  \n",
       "CO           0.004570  \n",
       "SO2          0.003483  \n",
       "O3          -0.002416  \n",
       "Benzene     -0.007270  \n",
       "Toluene     -0.008991  \n",
       "Xylene       0.003293  \n",
       "AQI         -0.004504  \n",
       "Temperature  0.004001  \n",
       "Humidity    -0.003933  \n",
       "WindSpeed   -0.010843  \n",
       "Year        -0.005356  \n",
       "Month        0.008569  \n",
       "Day          1.000000  "
      ]
     },
     "execution_count": 31,
     "metadata": {},
     "output_type": "execute_result"
    }
   ],
   "source": [
    "data.corr()"
   ]
  },
  {
   "cell_type": "code",
   "execution_count": 32,
   "id": "7071310b",
   "metadata": {},
   "outputs": [
    {
     "data": {
      "text/plain": [
       "AQI            1.000000\n",
       "CO             0.662878\n",
       "PM2.5          0.626098\n",
       "NO2            0.526742\n",
       "PM10           0.483638\n",
       "SO2            0.466603\n",
       "NOx            0.465214\n",
       "NO             0.432841\n",
       "Toluene        0.263721\n",
       "O3             0.193984\n",
       "NH3            0.142393\n",
       "Xylene         0.134556\n",
       "Benzene        0.039178\n",
       "Month          0.021506\n",
       "Humidity       0.007701\n",
       "WindSpeed     -0.000280\n",
       "Day           -0.004504\n",
       "Temperature   -0.139528\n",
       "Year          -0.177883\n",
       "Name: AQI, dtype: float64"
      ]
     },
     "execution_count": 32,
     "metadata": {},
     "output_type": "execute_result"
    }
   ],
   "source": [
    "data.corr()['AQI'].sort_values(ascending = False)"
   ]
  },
  {
   "cell_type": "code",
   "execution_count": 33,
   "id": "31590a19",
   "metadata": {},
   "outputs": [
    {
     "data": {
      "text/plain": [
       "<AxesSubplot:xlabel='AQI', ylabel='CO'>"
      ]
     },
     "execution_count": 33,
     "metadata": {},
     "output_type": "execute_result"
    },
    {
     "data": {
      "image/png": "[encoded data removed]",
      "text/plain": [
       "<Figure size 1000x600 with 1 Axes>"
      ]
     },
     "metadata": {},
     "output_type": "display_data"
    }
   ],
   "source": [
    "plt.figure(figsize=(10, 6))\n",
    "sns.scatterplot(x = 'AQI', y = 'CO', data = data)"
   ]
  },
  {
   "cell_type": "code",
   "execution_count": 34,
   "id": "c8b48387",
   "metadata": {},
   "outputs": [
    {
     "data": {
      "text/plain": [
       "<AxesSubplot:xlabel='AQI', ylabel='PM2.5'>"
      ]
     },
     "execution_count": 34,
     "metadata": {},
     "output_type": "execute_result"
    },
    {
     "data": {
      "image/png": "[encoded data removed]",
      "text/plain": [
       "<Figure size 1000x600 with 1 Axes>"
      ]
     },
     "metadata": {},
     "output_type": "display_data"
    }
   ],
   "source": [
    "plt.figure(figsize=(10, 6))\n",
    "sns.scatterplot(x = 'AQI', y = 'PM2.5', data = data)"
   ]
  },
  {
   "cell_type": "markdown",
   "id": "8628f7c6",
   "metadata": {},
   "source": [
    "# Feature Selection"
   ]
  },
  {
   "cell_type": "code",
   "execution_count": 35,
   "id": "9132a871",
   "metadata": {},
   "outputs": [],
   "source": [
    "X = data.drop(['City', 'AQI', 'AQI_Bucket'], axis = 1)\n",
    "y = data['AQI']"
   ]
  },
  {
   "cell_type": "code",
   "execution_count": 36,
   "id": "0782d1c1",
   "metadata": {},
   "outputs": [],
   "source": [
    "from sklearn.feature_selection import SelectKBest\n",
    "from sklearn.feature_selection import f_regression"
   ]
  },
  {
   "cell_type": "code",
   "execution_count": 37,
   "id": "f0408922",
   "metadata": {},
   "outputs": [],
   "source": [
    "# feature selection\n",
    "def select_features(X, y):\n",
    "    fs = SelectKBest(score_func = f_regression, k = 'all')\n",
    "    fs.fit(X, y)\n",
    "    X_fs = fs.transform(X)\n",
    "    return X_fs, fs"
   ]
  },
  {
   "cell_type": "code",
   "execution_count": 38,
   "id": "81792cdd",
   "metadata": {},
   "outputs": [
    {
     "name": "stdout",
     "output_type": "stream",
     "text": [
      "PM2.5: 16772.713314843968\n",
      "PM10: 7942.9603040090105\n",
      "NO: 5997.593523322143\n",
      "NO2: 9989.781747291523\n",
      "NOx: 7185.354871131619\n",
      "NH3: 538.3891381997393\n",
      "CO: 20391.275281693113\n",
      "SO2: 7240.300755919208\n",
      "O3: 1017.2179759391753\n",
      "Benzene: 39.991586018699444\n",
      "Toluene: 1944.5516495402514\n",
      "Xylene: 479.6984346777604\n",
      "Temperature: 516.5182298739963\n",
      "Humidity: 1.5431008679331661\n",
      "WindSpeed: 0.0020378092467983333\n",
      "Year: 850.0714435164514\n",
      "Month: 12.037776524885968\n",
      "Day: 0.5276591435961978\n"
     ]
    }
   ],
   "source": [
    "X_train_fs, fs = select_features(X, y)\n",
    "\n",
    "dictScores = {}\n",
    "\n",
    "for i in range(len(fs.scores_)):\n",
    "    dictScores[fs.feature_names_in_[i]] = fs.scores_[i]\n",
    "    print(f'{fs.feature_names_in_[i]}: {fs.scores_[i]}')\n",
    "\n",
    "\n",
    "dictScores = dict(sorted(dictScores.items(), key = lambda x: x[1], reverse = True))"
   ]
  },
  {
   "cell_type": "code",
   "execution_count": 39,
   "id": "85496f58",
   "metadata": {},
   "outputs": [
    {
     "name": "stdout",
     "output_type": "stream",
     "text": [
      "CO : 20391.275281693113\n",
      "PM2.5 : 16772.713314843968\n",
      "NO2 : 9989.781747291523\n",
      "PM10 : 7942.9603040090105\n",
      "SO2 : 7240.300755919208\n",
      "NOx : 7185.354871131619\n",
      "NO : 5997.593523322143\n",
      "Toluene : 1944.5516495402514\n",
      "O3 : 1017.2179759391753\n",
      "Year : 850.0714435164514\n",
      "NH3 : 538.3891381997393\n",
      "Temperature : 516.5182298739963\n",
      "Xylene : 479.6984346777604\n",
      "Benzene : 39.991586018699444\n",
      "Month : 12.037776524885968\n",
      "Humidity : 1.5431008679331661\n",
      "Day : 0.5276591435961978\n",
      "WindSpeed : 0.0020378092467983333\n"
     ]
    }
   ],
   "source": [
    "for key, values in dictScores.items():\n",
    "    print(f'{key} : {values}')"
   ]
  },
  {
   "cell_type": "code",
   "execution_count": 40,
   "id": "91f9eefa",
   "metadata": {},
   "outputs": [],
   "source": [
    "X = data[['CO', 'PM2.5', 'NO2', 'PM10', 'SO2', 'NOx', 'NO', 'Toluene', 'O3']]\n",
    "y = data['AQI']"
   ]
  },
  {
   "cell_type": "code",
   "execution_count": 41,
   "id": "ac882b70",
   "metadata": {},
   "outputs": [
    {
     "data": {
      "text/plain": [
       "(26017, 9)"
      ]
     },
     "execution_count": 41,
     "metadata": {},
     "output_type": "execute_result"
    }
   ],
   "source": [
    "X.shape"
   ]
  },
  {
   "cell_type": "code",
   "execution_count": 42,
   "id": "d6184712",
   "metadata": {},
   "outputs": [
    {
     "data": {
      "text/plain": [
       "(26017,)"
      ]
     },
     "execution_count": 42,
     "metadata": {},
     "output_type": "execute_result"
    }
   ],
   "source": [
    "y.shape"
   ]
  },
  {
   "cell_type": "code",
   "execution_count": 43,
   "id": "02722bfe",
   "metadata": {},
   "outputs": [],
   "source": [
    "from sklearn.model_selection import train_test_split"
   ]
  },
  {
   "cell_type": "code",
   "execution_count": 44,
   "id": "ff3bcb26",
   "metadata": {},
   "outputs": [],
   "source": [
    "X_train, X_test, y_train, y_test = train_test_split(X, y, test_size = 0.33, random_state = 42)"
   ]
  },
  {
   "cell_type": "markdown",
   "id": "d36268b6",
   "metadata": {},
   "source": [
    "# Data Normalizaton"
   ]
  },
  {
   "cell_type": "code",
   "execution_count": 45,
   "id": "3fe8f020",
   "metadata": {},
   "outputs": [],
   "source": [
    "from sklearn.preprocessing import MinMaxScaler"
   ]
  },
  {
   "cell_type": "code",
   "execution_count": 46,
   "id": "3ddae8be",
   "metadata": {},
   "outputs": [],
   "source": [
    "scaler = MinMaxScaler()"
   ]
  },
  {
   "cell_type": "code",
   "execution_count": 47,
   "id": "0d4c6136",
   "metadata": {},
   "outputs": [],
   "source": [
    "X_train = scaler.fit_transform(X_train)"
   ]
  },
  {
   "cell_type": "code",
   "execution_count": 48,
   "id": "4169ff5f",
   "metadata": {},
   "outputs": [],
   "source": [
    "X_test = scaler.transform(X_test)"
   ]
  },
  {
   "cell_type": "code",
   "execution_count": 49,
   "id": "f243e46c",
   "metadata": {},
   "outputs": [],
   "source": [
    "import pickle\n",
    "pickle.dump(scaler, open('SavedModels/Transformer.pkl','wb'))"
   ]
  },
  {
   "cell_type": "markdown",
   "id": "f958248d",
   "metadata": {},
   "source": [
    "# Model Training"
   ]
  },
  {
   "cell_type": "code",
   "execution_count": 50,
   "id": "00ba1aec",
   "metadata": {},
   "outputs": [],
   "source": [
    "from tensorflow.keras.models import Sequential\n",
    "from tensorflow.keras.layers import Dense\n",
    "from tensorflow.keras.callbacks import EarlyStopping, CSVLogger"
   ]
  },
  {
   "cell_type": "code",
   "execution_count": 51,
   "id": "c57999e2",
   "metadata": {},
   "outputs": [],
   "source": [
    "earlyStop = EarlyStopping(monitor = 'val_loss', mode = 'min', verbose = 1, patience = 10)"
   ]
  },
  {
   "cell_type": "code",
   "execution_count": 52,
   "id": "1ab95d1a",
   "metadata": {},
   "outputs": [],
   "source": [
    "csv_logger = CSVLogger('Logs/log.csv', append = True, separator = ';')"
   ]
  },
  {
   "cell_type": "code",
   "execution_count": 53,
   "id": "dacb5fb7",
   "metadata": {},
   "outputs": [
    {
     "data": {
      "text/plain": [
       "(17431, 9)"
      ]
     },
     "execution_count": 53,
     "metadata": {},
     "output_type": "execute_result"
    }
   ],
   "source": [
    "X_train.shape"
   ]
  },
  {
   "cell_type": "code",
   "execution_count": 54,
   "id": "3c7dc961",
   "metadata": {},
   "outputs": [],
   "source": [
    "model = Sequential()\n",
    "\n",
    "model.add(Dense(9, activation = 'relu'))\n",
    "\n",
    "model.add(Dense(9, activation = 'relu'))\n",
    "\n",
    "model.add(Dense(9, activation = 'relu'))\n",
    "\n",
    "model.add(Dense(9, activation = 'relu'))\n",
    "\n",
    "model.add(Dense(1))\n",
    "\n",
    "model.compile(loss = 'mean_squared_error', optimizer = 'adam')"
   ]
  },
  {
   "cell_type": "code",
   "execution_count": 55,
   "id": "9526bb8e",
   "metadata": {
    "scrolled": false
   },
   "outputs": [
    {
     "name": "stdout",
     "output_type": "stream",
     "text": [
      "Epoch 1/600\n",
      "545/545 [==============================] - 3s 3ms/step - loss: 30524.1562 - val_loss: 12117.1934\n",
      "Epoch 2/600\n",
      "545/545 [==============================] - 2s 3ms/step - loss: 10849.1377 - val_loss: 8343.0195\n",
      "Epoch 3/600\n",
      "545/545 [==============================] - 2s 3ms/step - loss: 7607.6411 - val_loss: 6663.7666\n",
      "Epoch 4/600\n",
      "545/545 [==============================] - 2s 3ms/step - loss: 6387.2466 - val_loss: 6049.6899\n",
      "Epoch 5/600\n",
      "545/545 [==============================] - 2s 4ms/step - loss: 5661.7480 - val_loss: 5394.3994\n",
      "Epoch 6/600\n",
      "545/545 [==============================] - 3s 5ms/step - loss: 5092.4282 - val_loss: 4970.1050\n",
      "Epoch 7/600\n",
      "545/545 [==============================] - 2s 3ms/step - loss: 4673.8423 - val_loss: 4634.8013\n",
      "Epoch 8/600\n",
      "545/545 [==============================] - 2s 3ms/step - loss: 4360.7505 - val_loss: 4401.1289\n",
      "Epoch 9/600\n",
      "545/545 [==============================] - 2s 5ms/step - loss: 4155.9658 - val_loss: 4239.8662\n",
      "Epoch 10/600\n",
      "545/545 [==============================] - 2s 4ms/step - loss: 3992.1152 - val_loss: 4109.4585\n",
      "Epoch 11/600\n",
      "545/545 [==============================] - 2s 4ms/step - loss: 3870.7324 - val_loss: 3993.1694\n",
      "Epoch 12/600\n",
      "545/545 [==============================] - 2s 4ms/step - loss: 3779.3867 - val_loss: 3866.1072\n",
      "Epoch 13/600\n",
      "545/545 [==============================] - 2s 4ms/step - loss: 3686.2717 - val_loss: 3781.4592\n",
      "Epoch 14/600\n",
      "545/545 [==============================] - 2s 4ms/step - loss: 3616.2991 - val_loss: 3683.4031\n",
      "Epoch 15/600\n",
      "545/545 [==============================] - 2s 4ms/step - loss: 3550.4780 - val_loss: 3585.7957\n",
      "Epoch 16/600\n",
      "545/545 [==============================] - 2s 4ms/step - loss: 3487.4902 - val_loss: 3513.8225\n",
      "Epoch 17/600\n",
      "545/545 [==============================] - 2s 4ms/step - loss: 3428.0012 - val_loss: 3451.9724\n",
      "Epoch 18/600\n",
      "545/545 [==============================] - 2s 4ms/step - loss: 3370.7761 - val_loss: 3365.7378\n",
      "Epoch 19/600\n",
      "545/545 [==============================] - 2s 3ms/step - loss: 3327.1003 - val_loss: 3343.3088\n",
      "Epoch 20/600\n",
      "545/545 [==============================] - 3s 5ms/step - loss: 3300.6106 - val_loss: 3308.2927\n",
      "Epoch 21/600\n",
      "545/545 [==============================] - 2s 4ms/step - loss: 3256.2178 - val_loss: 3292.7483\n",
      "Epoch 22/600\n",
      "545/545 [==============================] - 3s 6ms/step - loss: 3245.1589 - val_loss: 3228.3723\n",
      "Epoch 23/600\n",
      "545/545 [==============================] - 5s 8ms/step - loss: 3212.1726 - val_loss: 3236.7241\n",
      "Epoch 24/600\n",
      "545/545 [==============================] - 3s 6ms/step - loss: 3200.5229 - val_loss: 3180.9075\n",
      "Epoch 25/600\n",
      "545/545 [==============================] - 4s 7ms/step - loss: 3190.7585 - val_loss: 3163.7085\n",
      "Epoch 26/600\n",
      "545/545 [==============================] - 3s 5ms/step - loss: 3176.4539 - val_loss: 3153.4839\n",
      "Epoch 27/600\n",
      "545/545 [==============================] - 3s 5ms/step - loss: 3135.1436 - val_loss: 3210.3389\n",
      "Epoch 28/600\n",
      "545/545 [==============================] - 2s 4ms/step - loss: 3133.0325 - val_loss: 3109.8604\n",
      "Epoch 29/600\n",
      "545/545 [==============================] - 2s 4ms/step - loss: 3121.1570 - val_loss: 3091.6646\n",
      "Epoch 30/600\n",
      "545/545 [==============================] - 2s 4ms/step - loss: 3101.6135 - val_loss: 3115.6365\n",
      "Epoch 31/600\n",
      "545/545 [==============================] - 2s 3ms/step - loss: 3107.8579 - val_loss: 3060.5215\n",
      "Epoch 32/600\n",
      "545/545 [==============================] - 2s 4ms/step - loss: 3086.1948 - val_loss: 3095.0464\n",
      "Epoch 33/600\n",
      "545/545 [==============================] - 2s 4ms/step - loss: 3085.4011 - val_loss: 3055.5474\n",
      "Epoch 34/600\n",
      "545/545 [==============================] - 2s 4ms/step - loss: 3062.9871 - val_loss: 3046.9570\n",
      "Epoch 35/600\n",
      "545/545 [==============================] - 3s 5ms/step - loss: 3047.4990 - val_loss: 3036.9084\n",
      "Epoch 36/600\n",
      "545/545 [==============================] - 2s 4ms/step - loss: 3045.3977 - val_loss: 3010.0671\n",
      "Epoch 37/600\n",
      "545/545 [==============================] - 2s 4ms/step - loss: 3035.6663 - val_loss: 3018.4338\n",
      "Epoch 38/600\n",
      "545/545 [==============================] - 2s 4ms/step - loss: 3031.1270 - val_loss: 2986.0212\n",
      "Epoch 39/600\n",
      "545/545 [==============================] - 2s 3ms/step - loss: 3021.8740 - val_loss: 3012.3391\n",
      "Epoch 40/600\n",
      "545/545 [==============================] - 2s 3ms/step - loss: 3014.0481 - val_loss: 3009.2991\n",
      "Epoch 41/600\n",
      "545/545 [==============================] - 2s 3ms/step - loss: 3004.9966 - val_loss: 3036.7002\n",
      "Epoch 42/600\n",
      "545/545 [==============================] - 2s 4ms/step - loss: 3012.2266 - val_loss: 2981.0686\n",
      "Epoch 43/600\n",
      "545/545 [==============================] - 2s 3ms/step - loss: 2989.8525 - val_loss: 2955.2771\n",
      "Epoch 44/600\n",
      "545/545 [==============================] - 2s 3ms/step - loss: 2986.5920 - val_loss: 2970.9324\n",
      "Epoch 45/600\n",
      "545/545 [==============================] - 2s 4ms/step - loss: 2993.3416 - val_loss: 2936.0657\n",
      "Epoch 46/600\n",
      "545/545 [==============================] - 2s 4ms/step - loss: 2976.3984 - val_loss: 2940.8032\n",
      "Epoch 47/600\n",
      "545/545 [==============================] - 2s 3ms/step - loss: 2984.9363 - val_loss: 2937.0393\n",
      "Epoch 48/600\n",
      "545/545 [==============================] - 2s 4ms/step - loss: 2981.1987 - val_loss: 2918.4021\n",
      "Epoch 49/600\n",
      "545/545 [==============================] - 2s 4ms/step - loss: 2969.3865 - val_loss: 2924.9192\n",
      "Epoch 50/600\n",
      "545/545 [==============================] - 2s 4ms/step - loss: 2973.5552 - val_loss: 2908.0583\n",
      "Epoch 51/600\n",
      "545/545 [==============================] - 3s 6ms/step - loss: 2968.1626 - val_loss: 2906.0649\n",
      "Epoch 52/600\n",
      "545/545 [==============================] - 2s 4ms/step - loss: 2972.1807 - val_loss: 2924.0781\n",
      "Epoch 53/600\n",
      "545/545 [==============================] - 2s 4ms/step - loss: 2958.7617 - val_loss: 2923.6528\n",
      "Epoch 54/600\n",
      "545/545 [==============================] - 3s 5ms/step - loss: 2957.6895 - val_loss: 2921.9009\n",
      "Epoch 55/600\n",
      "545/545 [==============================] - 3s 6ms/step - loss: 2971.6772 - val_loss: 2921.8167\n",
      "Epoch 56/600\n",
      "545/545 [==============================] - 2s 4ms/step - loss: 2959.4675 - val_loss: 2914.1704\n",
      "Epoch 57/600\n",
      "545/545 [==============================] - 2s 4ms/step - loss: 2962.6443 - val_loss: 2920.4014\n",
      "Epoch 58/600\n",
      "545/545 [==============================] - 2s 4ms/step - loss: 2953.4814 - val_loss: 2918.9187\n",
      "Epoch 59/600\n",
      "545/545 [==============================] - 3s 6ms/step - loss: 2950.5005 - val_loss: 2943.2178\n",
      "Epoch 60/600\n",
      "545/545 [==============================] - 2s 4ms/step - loss: 2949.7434 - val_loss: 2919.6091\n",
      "Epoch 61/600\n",
      "545/545 [==============================] - 2s 4ms/step - loss: 2969.3491 - val_loss: 2916.8513\n",
      "Epoch 61: early stopping\n"
     ]
    },
    {
     "data": {
      "text/plain": [
       "<keras.callbacks.History at 0x20116d33eb0>"
      ]
     },
     "execution_count": 55,
     "metadata": {},
     "output_type": "execute_result"
    }
   ],
   "source": [
    "model.fit(x = X_train, y = y_train, epochs = 600, validation_data = (X_test, y_test), callbacks = [earlyStop, csv_logger])"
   ]
  },
  {
   "cell_type": "code",
   "execution_count": 56,
   "id": "37a740d4",
   "metadata": {},
   "outputs": [],
   "source": [
    "model.save('SavedModels/AirQulaity.h5')"
   ]
  },
  {
   "cell_type": "code",
   "execution_count": 57,
   "id": "0fda2afd",
   "metadata": {},
   "outputs": [],
   "source": [
    "losses = pd.DataFrame(model.history.history)"
   ]
  },
  {
   "cell_type": "code",
   "execution_count": 58,
   "id": "7e348117",
   "metadata": {},
   "outputs": [
    {
     "data": {
      "text/html": [
       "<div>\n",
       "<style scoped>\n",
       "    .dataframe tbody tr th:only-of-type {\n",
       "        vertical-align: middle;\n",
       "    }\n",
       "\n",
       "    .dataframe tbody tr th {\n",
       "        vertical-align: top;\n",
       "    }\n",
       "\n",
       "    .dataframe thead th {\n",
       "        text-align: right;\n",
       "    }\n",
       "</style>\n",
       "<table border=\"1\" class=\"dataframe\">\n",
       "  <thead>\n",
       "    <tr style=\"text-align: right;\">\n",
       "      <th></th>\n",
       "      <th>loss</th>\n",
       "      <th>val_loss</th>\n",
       "    </tr>\n",
       "  </thead>\n",
       "  <tbody>\n",
       "    <tr>\n",
       "      <th>0</th>\n",
       "      <td>30524.156250</td>\n",
       "      <td>12117.193359</td>\n",
       "    </tr>\n",
       "    <tr>\n",
       "      <th>1</th>\n",
       "      <td>10849.137695</td>\n",
       "      <td>8343.019531</td>\n",
       "    </tr>\n",
       "    <tr>\n",
       "      <th>2</th>\n",
       "      <td>7607.641113</td>\n",
       "      <td>6663.766602</td>\n",
       "    </tr>\n",
       "    <tr>\n",
       "      <th>3</th>\n",
       "      <td>6387.246582</td>\n",
       "      <td>6049.689941</td>\n",
       "    </tr>\n",
       "    <tr>\n",
       "      <th>4</th>\n",
       "      <td>5661.748047</td>\n",
       "      <td>5394.399414</td>\n",
       "    </tr>\n",
       "    <tr>\n",
       "      <th>...</th>\n",
       "      <td>...</td>\n",
       "      <td>...</td>\n",
       "    </tr>\n",
       "    <tr>\n",
       "      <th>56</th>\n",
       "      <td>2962.644287</td>\n",
       "      <td>2920.401367</td>\n",
       "    </tr>\n",
       "    <tr>\n",
       "      <th>57</th>\n",
       "      <td>2953.481445</td>\n",
       "      <td>2918.918701</td>\n",
       "    </tr>\n",
       "    <tr>\n",
       "      <th>58</th>\n",
       "      <td>2950.500488</td>\n",
       "      <td>2943.217773</td>\n",
       "    </tr>\n",
       "    <tr>\n",
       "      <th>59</th>\n",
       "      <td>2949.743408</td>\n",
       "      <td>2919.609131</td>\n",
       "    </tr>\n",
       "    <tr>\n",
       "      <th>60</th>\n",
       "      <td>2969.349121</td>\n",
       "      <td>2916.851318</td>\n",
       "    </tr>\n",
       "  </tbody>\n",
       "</table>\n",
       "<p>61 rows × 2 columns</p>\n",
       "</div>"
      ],
      "text/plain": [
       "            loss      val_loss\n",
       "0   30524.156250  12117.193359\n",
       "1   10849.137695   8343.019531\n",
       "2    7607.641113   6663.766602\n",
       "3    6387.246582   6049.689941\n",
       "4    5661.748047   5394.399414\n",
       "..           ...           ...\n",
       "56   2962.644287   2920.401367\n",
       "57   2953.481445   2918.918701\n",
       "58   2950.500488   2943.217773\n",
       "59   2949.743408   2919.609131\n",
       "60   2969.349121   2916.851318\n",
       "\n",
       "[61 rows x 2 columns]"
      ]
     },
     "execution_count": 58,
     "metadata": {},
     "output_type": "execute_result"
    }
   ],
   "source": [
    "losses"
   ]
  },
  {
   "cell_type": "code",
   "execution_count": 59,
   "id": "e8f4266e",
   "metadata": {},
   "outputs": [
    {
     "data": {
      "text/plain": [
       "<AxesSubplot:>"
      ]
     },
     "execution_count": 59,
     "metadata": {},
     "output_type": "execute_result"
    },
    {
     "data": {
      "image/png": "[encoded data removed]",
      "text/plain": [
       "<Figure size 640x480 with 1 Axes>"
      ]
     },
     "metadata": {},
     "output_type": "display_data"
    }
   ],
   "source": [
    "losses.plot()"
   ]
  },
  {
   "cell_type": "code",
   "execution_count": 84,
   "id": "1f915ca8",
   "metadata": {},
   "outputs": [],
   "source": [
    "from sklearn.metrics import mean_absolute_error, mean_squared_error, explained_variance_score, accuracy_score"
   ]
  },
  {
   "cell_type": "code",
   "execution_count": null,
   "id": "2395933c",
   "metadata": {},
   "outputs": [],
   "source": []
  },
  {
   "cell_type": "code",
   "execution_count": 86,
   "id": "e4be9e76",
   "metadata": {
    "scrolled": true
   },
   "outputs": [
    {
     "name": "stdout",
     "output_type": "stream",
     "text": [
      "269/269 [==============================] - 0s 1ms/step\n"
     ]
    }
   ],
   "source": [
    "predictions = model.predict(X_test)"
   ]
  },
  {
   "cell_type": "code",
   "execution_count": 64,
   "id": "77adfb8e",
   "metadata": {},
   "outputs": [
    {
     "data": {
      "text/plain": [
       "2916.8512649668432"
      ]
     },
     "execution_count": 64,
     "metadata": {},
     "output_type": "execute_result"
    }
   ],
   "source": [
    "mean_squared_error(y_test, predictions)"
   ]
  },
  {
   "cell_type": "code",
   "execution_count": 65,
   "id": "f8dbd72d",
   "metadata": {},
   "outputs": [
    {
     "data": {
      "text/plain": [
       "54.00788150785812"
      ]
     },
     "execution_count": 65,
     "metadata": {},
     "output_type": "execute_result"
    }
   ],
   "source": [
    "np.sqrt(mean_squared_error(y_test, predictions))"
   ]
  },
  {
   "cell_type": "code",
   "execution_count": 66,
   "id": "81743d22",
   "metadata": {},
   "outputs": [
    {
     "data": {
      "text/plain": [
       "27.360163112412014"
      ]
     },
     "execution_count": 66,
     "metadata": {},
     "output_type": "execute_result"
    }
   ],
   "source": [
    "mean_absolute_error(y_test, predictions)"
   ]
  },
  {
   "cell_type": "code",
   "execution_count": 67,
   "id": "da17894f",
   "metadata": {},
   "outputs": [
    {
     "data": {
      "text/plain": [
       "count    26017.000000\n",
       "mean       163.448207\n",
       "std        138.152067\n",
       "min         13.000000\n",
       "25%         83.000000\n",
       "50%        113.000000\n",
       "75%        199.000000\n",
       "max       2049.000000\n",
       "Name: AQI, dtype: float64"
      ]
     },
     "execution_count": 67,
     "metadata": {},
     "output_type": "execute_result"
    }
   ],
   "source": [
    "data['AQI'].describe()"
   ]
  },
  {
   "cell_type": "code",
   "execution_count": 68,
   "id": "2a75d8d5",
   "metadata": {},
   "outputs": [
    {
     "data": {
      "text/plain": [
       "0.8402930868870327"
      ]
     },
     "execution_count": 68,
     "metadata": {},
     "output_type": "execute_result"
    }
   ],
   "source": [
    "explained_variance_score(y_test, predictions)"
   ]
  },
  {
   "cell_type": "code",
   "execution_count": 69,
   "id": "a24531b5",
   "metadata": {},
   "outputs": [
    {
     "data": {
      "text/plain": [
       "[<matplotlib.lines.Line2D at 0x2011b794ac0>]"
      ]
     },
     "execution_count": 69,
     "metadata": {},
     "output_type": "execute_result"
    },
    {
     "data": {
      "image/png": "[encoded data removed]",
      "text/plain": [
       "<Figure size 640x480 with 1 Axes>"
      ]
     },
     "metadata": {},
     "output_type": "display_data"
    }
   ],
   "source": [
    "plt.scatter(y_test, predictions)\n",
    "plt.plot(y_test, y_test, 'r')"
   ]
  },
  {
   "cell_type": "markdown",
   "id": "5dc31b96",
   "metadata": {},
   "source": [
    "# New Data"
   ]
  },
  {
   "cell_type": "code",
   "execution_count": 70,
   "id": "41aa47a6",
   "metadata": {},
   "outputs": [
    {
     "data": {
      "text/plain": [
       "CO           6.930000\n",
       "PM2.5       83.130000\n",
       "NO2         28.710000\n",
       "PM10       118.127103\n",
       "SO2         49.520000\n",
       "NOx         33.720000\n",
       "NO           6.930000\n",
       "Toluene      0.000000\n",
       "O3          59.760000\n",
       "Name: 1, dtype: float64"
      ]
     },
     "execution_count": 70,
     "metadata": {},
     "output_type": "execute_result"
    }
   ],
   "source": [
    "data[['CO', 'PM2.5', 'NO2', 'PM10', 'SO2', 'NOx', 'NO', 'Toluene', 'O3']].iloc[1]"
   ]
  },
  {
   "cell_type": "code",
   "execution_count": 71,
   "id": "3bcfa354",
   "metadata": {},
   "outputs": [],
   "source": [
    "singleEntry = data[['CO', 'PM2.5', 'NO2', 'PM10', 'SO2', 'NOx', 'NO', 'Toluene', 'O3']].iloc[1]"
   ]
  },
  {
   "cell_type": "code",
   "execution_count": 72,
   "id": "3d000617",
   "metadata": {},
   "outputs": [
    {
     "data": {
      "text/plain": [
       "pandas.core.series.Series"
      ]
     },
     "execution_count": 72,
     "metadata": {},
     "output_type": "execute_result"
    }
   ],
   "source": [
    "type(singleEntry)"
   ]
  },
  {
   "cell_type": "code",
   "execution_count": 73,
   "id": "63aab169",
   "metadata": {},
   "outputs": [
    {
     "data": {
      "text/plain": [
       "array([[  6.93      ,  83.13      ,  28.71      , 118.12710293,\n",
       "         49.52      ,  33.72      ,   6.93      ,   0.        ,\n",
       "         59.76      ]])"
      ]
     },
     "execution_count": 73,
     "metadata": {},
     "output_type": "execute_result"
    }
   ],
   "source": [
    "singleEntry.values.reshape(-1, 9)"
   ]
  },
  {
   "cell_type": "code",
   "execution_count": 74,
   "id": "31a5e29f",
   "metadata": {},
   "outputs": [
    {
     "name": "stderr",
     "output_type": "stream",
     "text": [
      "C:\\Users\\KIIT\\anaconda3\\lib\\site-packages\\sklearn\\base.py:450: UserWarning: X does not have valid feature names, but MinMaxScaler was fitted with feature names\n",
      "  warnings.warn(\n"
     ]
    }
   ],
   "source": [
    "singleEntry = scaler.transform(singleEntry.values.reshape(-1, 9))"
   ]
  },
  {
   "cell_type": "code",
   "execution_count": 75,
   "id": "e27d2b97",
   "metadata": {},
   "outputs": [
    {
     "name": "stdout",
     "output_type": "stream",
     "text": [
      "1/1 [==============================] - 0s 60ms/step\n"
     ]
    },
    {
     "data": {
      "text/plain": [
       "array([[263.84894]], dtype=float32)"
      ]
     },
     "execution_count": 75,
     "metadata": {},
     "output_type": "execute_result"
    }
   ],
   "source": [
    "model.predict(singleEntry)"
   ]
  },
  {
   "cell_type": "code",
   "execution_count": 76,
   "id": "a2465499",
   "metadata": {},
   "outputs": [
    {
     "data": {
      "text/plain": [
       "array(['Ahmedabad', 83.13, 118.12710293078102, 6.93, 28.71, 33.72,\n",
       "       23.483476019371977, 6.93, 49.52, 59.76, 0.02, 0.0, 3.14, 209.0,\n",
       "       'Poor', 8.42, 46.9, 11.63, 2015, 1, 29], dtype=object)"
      ]
     },
     "execution_count": 76,
     "metadata": {},
     "output_type": "execute_result"
    }
   ],
   "source": [
    "data.iloc[1].values"
   ]
  },
  {
   "cell_type": "code",
   "execution_count": null,
   "id": "a8adf024",
   "metadata": {},
   "outputs": [],
   "source": []
  },
  {
   "cell_type": "markdown",
   "id": "88609200",
   "metadata": {},
   "source": [
    "# Testing on New Data"
   ]
  },
  {
   "cell_type": "code",
   "execution_count": 77,
   "id": "efdb9610",
   "metadata": {},
   "outputs": [],
   "source": [
    "import pickle\n",
    "import numpy as np\n",
    "from tensorflow.keras.models import load_model"
   ]
  },
  {
   "cell_type": "code",
   "execution_count": 78,
   "id": "5028777d",
   "metadata": {},
   "outputs": [],
   "source": [
    "scaler = pickle.load(open('SavedModels/Transformer.pkl','rb'))\n",
    "model = load_model('SavedModels/AirQulaity.h5')"
   ]
  },
  {
   "cell_type": "code",
   "execution_count": 79,
   "id": "f8cd83ac",
   "metadata": {},
   "outputs": [],
   "source": [
    "# singleEntry = ['CO', 'PM2.5', 'NO2', 'PM10', 'SO2', 'NOx', 'NO', 'Toluene', 'O3']\n",
    "singleEntry = np.array(['6.930000', '83.130000', '28.710000', '118.127103', '49.520000', '33.720000', '6.930000', '0.000000', '59.760000'])"
   ]
  },
  {
   "cell_type": "code",
   "execution_count": 80,
   "id": "6d216b52",
   "metadata": {},
   "outputs": [],
   "source": [
    "def rangeAssign(predictedVal):\n",
    "    predictedVal = int(predictedVal)\n",
    "    if(predictedVal >= 0 and predictedVal < 50):\n",
    "        return \"Good\"\n",
    "    if(predictedVal >= 51 and predictedVal < 100):\n",
    "        return \"Moderate\"\n",
    "    if(predictedVal >= 101 and predictedVal < 150):\n",
    "        return \"Unhealthy for Sensitive Groups\"\n",
    "    if(predictedVal >= 151 and predictedVal < 200):\n",
    "        return \"Unhealthy\"\n",
    "    if(predictedVal >= 201 and predictedVal < 300):\n",
    "        return \"Very Unhealthy\"\n",
    "    if(predictedVal >= 301):\n",
    "        return \"Hazardous\""
   ]
  },
  {
   "cell_type": "code",
   "execution_count": 81,
   "id": "26e43a2f",
   "metadata": {},
   "outputs": [],
   "source": [
    "def predictor(singleEntry):\n",
    "    singleEntry = scaler.transform(singleEntry.reshape(-1, 9))\n",
    "    return model.predict(singleEntry)"
   ]
  },
  {
   "cell_type": "code",
   "execution_count": 82,
   "id": "89ea3f27",
   "metadata": {},
   "outputs": [
    {
     "name": "stdout",
     "output_type": "stream",
     "text": [
      "\r",
      "1/1 [==============================] - ETA: 0s"
     ]
    },
    {
     "name": "stderr",
     "output_type": "stream",
     "text": [
      "C:\\Users\\KIIT\\anaconda3\\lib\\site-packages\\sklearn\\base.py:450: UserWarning: X does not have valid feature names, but MinMaxScaler was fitted with feature names\n",
      "  warnings.warn(\n"
     ]
    },
    {
     "name": "stdout",
     "output_type": "stream",
     "text": [
      "\b\b\b\b\b\b\b\b\b\b\b\b\b\b\b\b\b\b\b\b\b\b\b\b\b\b\b\b\b\b\b\b\b\b\b\b\b\b\b\b\b\b\b\b\b\b\r",
      "1/1 [==============================] - 0s 130ms/step\n"
     ]
    }
   ],
   "source": [
    "predictedVal = predictor(singleEntry = singleEntry)"
   ]
  },
  {
   "cell_type": "code",
   "execution_count": 83,
   "id": "dc3b480b",
   "metadata": {},
   "outputs": [
    {
     "name": "stdout",
     "output_type": "stream",
     "text": [
      "[[263.84894]]\n",
      "Very Unhealthy\n"
     ]
    }
   ],
   "source": [
    "print(predictedVal)\n",
    "print(rangeAssign(predictedVal))"
   ]
  }
 ],
 "metadata": {
  "kernelspec": {
   "display_name": "Python 3 (ipykernel)",
   "language": "python",
   "name": "python3"
  },
  "language_info": {
   "codemirror_mode": {
    "name": "ipython",
    "version": 3
   },
   "file_extension": ".py",
   "mimetype": "text/x-python",
   "name": "python",
   "nbconvert_exporter": "python",
   "pygments_lexer": "ipython3",
   "version": "3.9.13"
  }
 },
 "nbformat": 4,
 "nbformat_minor": 5
}
