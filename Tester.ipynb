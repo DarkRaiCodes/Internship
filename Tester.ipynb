{
 "cells": [
  {
   "cell_type": "code",
   "execution_count": 1,
   "metadata": {},
   "outputs": [],
   "source": [
    "import pickle\n",
    "import numpy as np\n",
    "from tensorflow.keras.models import load_model"
   ]
  },
  {
   "cell_type": "code",
   "execution_count": 2,
   "metadata": {},
   "outputs": [],
   "source": [
    "scaler = pickle.load(open('SavedModels/Transformer.pkl','rb'))\n",
    "model = load_model('SavedModels/AirQulaity.h5')"
   ]
  },
  {
   "cell_type": "code",
   "execution_count": 3,
   "metadata": {},
   "outputs": [],
   "source": [
    "# singleEntry = ['CO', 'PM2.5', 'NO2', 'PM10', 'SO2', 'NOx', 'NO', 'Toluene', 'O3']\n",
    "singleEntry = np.array(['6.930000', '83.130000', '28.710000', '118.127103', '49.520000', '33.720000', '6.930000', '0.000000', '59.760000'])"
   ]
  },
  {
   "cell_type": "code",
   "execution_count": 4,
   "metadata": {},
   "outputs": [],
   "source": [
    "def rangeAssign(predictedVal):\n",
    "    predictedVal = int(predictedVal)\n",
    "    if(predictedVal >= 0 and predictedVal < 50):\n",
    "        return \"Good\"\n",
    "    if(predictedVal >= 51 and predictedVal < 100):\n",
    "        return \"Moderate\"\n",
    "    if(predictedVal >= 101 and predictedVal < 150):\n",
    "        return \"Unhealthy for Sensitive Groups\"\n",
    "    if(predictedVal >= 151 and predictedVal < 200):\n",
    "        return \"Unhealthy\"\n",
    "    if(predictedVal >= 201 and predictedVal < 300):\n",
    "        return \"Very Unhealthy\"\n",
    "    if(predictedVal >= 301):\n",
    "        return \"Hazardous\""
   ]
  },
  {
   "cell_type": "code",
   "execution_count": 5,
   "metadata": {},
   "outputs": [],
   "source": [
    "def predictor(singleEntry):\n",
    "    singleEntry = scaler.transform(singleEntry.reshape(-1, 9))\n",
    "    return model.predict(singleEntry)"
   ]
  },
  {
   "cell_type": "code",
   "execution_count": 6,
   "metadata": {},
   "outputs": [
    {
     "name": "stdout",
     "output_type": "stream",
     "text": [
      "1/1 [==============================] - 0s 120ms/step\n"
     ]
    },
    {
     "name": "stderr",
     "output_type": "stream",
     "text": [
      "C:\\Users\\KIIT\\anaconda3\\lib\\site-packages\\sklearn\\base.py:450: UserWarning: X does not have valid feature names, but MinMaxScaler was fitted with feature names\n",
      "  warnings.warn(\n"
     ]
    }
   ],
   "source": [
    "predictedVal = predictor(singleEntry = singleEntry)"
   ]
  },
  {
   "cell_type": "code",
   "execution_count": 7,
   "metadata": {},
   "outputs": [
    {
     "name": "stdout",
     "output_type": "stream",
     "text": [
      "[[242.38461]]\n",
      "Very Unhealthy\n"
     ]
    }
   ],
   "source": [
    "print(predictedVal)\n",
    "print(rangeAssign(predictedVal))"
   ]
  }
 ],
 "metadata": {
  "kernelspec": {
   "display_name": "Python 3 (ipykernel)",
   "language": "python",
   "name": "python3"
  },
  "language_info": {
   "codemirror_mode": {
    "name": "ipython",
    "version": 3
   },
   "file_extension": ".py",
   "mimetype": "text/x-python",
   "name": "python",
   "nbconvert_exporter": "python",
   "pygments_lexer": "ipython3",
   "version": "3.9.13"
  }
 },
 "nbformat": 4,
 "nbformat_minor": 2
}
